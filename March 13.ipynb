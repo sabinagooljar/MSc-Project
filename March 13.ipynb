{
 "cells": [
  {
   "cell_type": "code",
   "execution_count": 1,
   "metadata": {},
   "outputs": [],
   "source": [
    "import pandas as pd\n",
    "import numpy as np\n",
    "from sklearn.model_selection import train_test_split\n",
    "from sklearn.model_selection import KFold\n",
    "from sklearn.metrics import mean_squared_error\n",
    "from sklearn.linear_model import LinearRegression\n",
    "from sklearn.ensemble import RandomForestRegressor\n",
    "from sklearn.neighbors import KNeighborsRegressor\n",
    "from sklearn.tree import DecisionTreeRegressor\n",
    "from sklearn.cluster import KMeans\n",
    "import matplotlib.pyplot as plt\n",
    "from sklearn.model_selection import KFold, cross_val_score, cross_val_predict"
   ]
  },
  {
   "cell_type": "code",
   "execution_count": 2,
   "metadata": {},
   "outputs": [],
   "source": [
    "df= pd.read_csv('auto.csv')"
   ]
  },
  {
   "cell_type": "code",
   "execution_count": 3,
   "metadata": {},
   "outputs": [
    {
     "data": {
      "text/html": [
       "<div>\n",
       "<style scoped>\n",
       "    .dataframe tbody tr th:only-of-type {\n",
       "        vertical-align: middle;\n",
       "    }\n",
       "\n",
       "    .dataframe tbody tr th {\n",
       "        vertical-align: top;\n",
       "    }\n",
       "\n",
       "    .dataframe thead th {\n",
       "        text-align: right;\n",
       "    }\n",
       "</style>\n",
       "<table border=\"1\" class=\"dataframe\">\n",
       "  <thead>\n",
       "    <tr style=\"text-align: right;\">\n",
       "      <th></th>\n",
       "      <th>mpg</th>\n",
       "      <th>cylinders</th>\n",
       "      <th>acc</th>\n",
       "      <th>year</th>\n",
       "    </tr>\n",
       "  </thead>\n",
       "  <tbody>\n",
       "    <tr>\n",
       "      <th>0</th>\n",
       "      <td>18.0</td>\n",
       "      <td>8</td>\n",
       "      <td>12.0</td>\n",
       "      <td>70</td>\n",
       "    </tr>\n",
       "    <tr>\n",
       "      <th>1</th>\n",
       "      <td>15.0</td>\n",
       "      <td>8</td>\n",
       "      <td>11.5</td>\n",
       "      <td>70</td>\n",
       "    </tr>\n",
       "    <tr>\n",
       "      <th>2</th>\n",
       "      <td>18.0</td>\n",
       "      <td>8</td>\n",
       "      <td>11.0</td>\n",
       "      <td>70</td>\n",
       "    </tr>\n",
       "    <tr>\n",
       "      <th>3</th>\n",
       "      <td>16.0</td>\n",
       "      <td>8</td>\n",
       "      <td>12.0</td>\n",
       "      <td>70</td>\n",
       "    </tr>\n",
       "    <tr>\n",
       "      <th>4</th>\n",
       "      <td>17.0</td>\n",
       "      <td>8</td>\n",
       "      <td>10.5</td>\n",
       "      <td>70</td>\n",
       "    </tr>\n",
       "  </tbody>\n",
       "</table>\n",
       "</div>"
      ],
      "text/plain": [
       "    mpg  cylinders   acc  year\n",
       "0  18.0          8  12.0    70\n",
       "1  15.0          8  11.5    70\n",
       "2  18.0          8  11.0    70\n",
       "3  16.0          8  12.0    70\n",
       "4  17.0          8  10.5    70"
      ]
     },
     "execution_count": 3,
     "metadata": {},
     "output_type": "execute_result"
    }
   ],
   "source": [
    "df.head()"
   ]
  },
  {
   "cell_type": "code",
   "execution_count": 4,
   "metadata": {},
   "outputs": [],
   "source": [
    "X= df.drop('mpg',axis=1)\n",
    "y= df['mpg']"
   ]
  },
  {
   "cell_type": "code",
   "execution_count": 5,
   "metadata": {},
   "outputs": [],
   "source": [
    "X_train, X_test, y_train, y_test = train_test_split(X,y, test_size= 0.20,random_state=0)\n"
   ]
  },
  {
   "cell_type": "markdown",
   "metadata": {},
   "source": [
    "# Random Forest"
   ]
  },
  {
   "cell_type": "code",
   "execution_count": 6,
   "metadata": {},
   "outputs": [
    {
     "name": "stdout",
     "output_type": "stream",
     "text": [
      "-18.72565456811274\n",
      "-18.03583240521131\n"
     ]
    }
   ],
   "source": [
    "ranf = RandomForestRegressor(random_state=0)\n",
    "rf= ranf.fit(X_train,y_train)\n",
    "scores_rf= cross_val_score(rf, X_train, y_train, scoring='neg_mean_squared_error', cv=10)\n",
    "scores_rf\n",
    "print(np.mean(scores_rf))\n",
    "\n",
    "y_pred_rf = cross_val_predict(ranf, X_test,y_test)\n",
    "scores_test_rf= cross_val_score(ranf, X_test, y_test,scoring='neg_mean_squared_error',cv=10)\n",
    "print(np.mean(scores_test_rf))"
   ]
  },
  {
   "cell_type": "markdown",
   "metadata": {},
   "source": [
    "# Decision Tree"
   ]
  },
  {
   "cell_type": "code",
   "execution_count": 7,
   "metadata": {},
   "outputs": [
    {
     "name": "stdout",
     "output_type": "stream",
     "text": [
      "-24.979877828181007\n",
      "-21.759324900793647\n"
     ]
    }
   ],
   "source": [
    "#Decision Tree\n",
    "dectree = DecisionTreeRegressor(random_state = 0)\n",
    "dt= dectree.fit(X_train,y_train)\n",
    "scores_dt= cross_val_score(dt, X_train, y_train, scoring='neg_mean_squared_error', cv=10)\n",
    "print(np.mean(scores_dt))\n",
    "\n",
    "y_pred_dt = cross_val_predict(dectree, X_test,y_test)\n",
    "scores_test_dt= cross_val_score(dectree, X_test, y_test,scoring='neg_mean_squared_error',cv=10)\n",
    "print(np.mean(scores_test_dt))"
   ]
  },
  {
   "cell_type": "markdown",
   "metadata": {},
   "source": [
    "# KNN"
   ]
  },
  {
   "cell_type": "code",
   "execution_count": 8,
   "metadata": {},
   "outputs": [
    {
     "name": "stdout",
     "output_type": "stream",
     "text": [
      "-21.070400714285714\n"
     ]
    }
   ],
   "source": [
    "# Instance and fit\n",
    "knn_model = KNeighborsRegressor(n_neighbors=5).fit(X_train, y_train)\n",
    "y_pred_knn = cross_val_predict(knn_model, X_test,y_test)\n",
    "scores_test_knn= cross_val_score(knn_model, X_test, y_test,scoring='neg_mean_squared_error',cv=10)\n",
    "print(np.mean(scores_test_knn))\n"
   ]
  },
  {
   "cell_type": "markdown",
   "metadata": {},
   "source": [
    "# Proposed Algorithm"
   ]
  },
  {
   "cell_type": "code",
   "execution_count": 9,
   "metadata": {},
   "outputs": [
    {
     "name": "stdout",
     "output_type": "stream",
     "text": [
      "      mpg  cylinders acc  year\n",
      "0    18.0          8   1    70\n",
      "1    15.0          8   1    70\n",
      "2    18.0          8   1    70\n",
      "3    16.0          8   1    70\n",
      "4    17.0          8   1    70\n",
      "..    ...        ...  ..   ...\n",
      "387  27.0          4   6    82\n",
      "388  44.0          4  10    82\n",
      "389  32.0          4   1    82\n",
      "390  28.0          4   9    82\n",
      "391  31.0          4  10    82\n",
      "\n",
      "[392 rows x 4 columns]\n"
     ]
    }
   ],
   "source": [
    "# create 10 categories with labels 1 to 10\n",
    "df['acc'] = pd.qcut(df['acc'], q=10, labels=range(1, 11))\n",
    "\n",
    "\n",
    "print(df)\n"
   ]
  },
  {
   "cell_type": "code",
   "execution_count": 10,
   "metadata": {},
   "outputs": [],
   "source": [
    "X= df.drop('mpg',axis=1)\n",
    "y= df['mpg']"
   ]
  },
  {
   "cell_type": "code",
   "execution_count": 11,
   "metadata": {},
   "outputs": [],
   "source": [
    "X_train, X_test, y_train, y_test = train_test_split(X,y, test_size= 0.20,random_state=0)"
   ]
  },
  {
   "cell_type": "code",
   "execution_count": 12,
   "metadata": {},
   "outputs": [],
   "source": [
    "def add_mean_columns(X_train, X_test, y_train):\n",
    "    \n",
    "    # Iterate over each column in X_train\n",
    "    for column in X_train.columns:\n",
    "\n",
    "        # Skip mean columns\n",
    "        #if column.endswith('_mean'):\n",
    "           # continue\n",
    "\n",
    "        # Find the unique values in the column\n",
    "        unique_values = X_train[column].unique()\n",
    "\n",
    "        # Calculate the mean for each unique value using y_train\n",
    "        means = {}\n",
    "        for value in unique_values:\n",
    "            means[value] = y_train[X_train[column] == value].mean()\n",
    "\n",
    "        # Replace the column in X_train with the corresponding means\n",
    "        X_train[column] = X_train[column].apply(lambda x: means[x])\n",
    "\n",
    "        # Replace the column in X_test with the corresponding means\n",
    "        X_test[column] = X_test[column].apply(lambda x: means[x] if x in means else x)\n",
    "\n",
    "        # Check for unique values in X_test that are not in X_train\n",
    "        missing_values = set(X_test[column].unique()) - set(X_train[column].unique())\n",
    "        if missing_values:\n",
    "            print(f\"Warning: Unique values {missing_values} in {column} of X_test not found in X_train.\")\n",
    "\n",
    "    return X_train, X_test"
   ]
  },
  {
   "cell_type": "code",
   "execution_count": 13,
   "metadata": {},
   "outputs": [
    {
     "name": "stderr",
     "output_type": "stream",
     "text": [
      "<ipython-input-12-1cda3ae5e109>:19: SettingWithCopyWarning: \n",
      "A value is trying to be set on a copy of a slice from a DataFrame.\n",
      "Try using .loc[row_indexer,col_indexer] = value instead\n",
      "\n",
      "See the caveats in the documentation: https://pandas.pydata.org/pandas-docs/stable/user_guide/indexing.html#returning-a-view-versus-a-copy\n",
      "  X_train[column] = X_train[column].apply(lambda x: means[x])\n",
      "<ipython-input-12-1cda3ae5e109>:22: SettingWithCopyWarning: \n",
      "A value is trying to be set on a copy of a slice from a DataFrame.\n",
      "Try using .loc[row_indexer,col_indexer] = value instead\n",
      "\n",
      "See the caveats in the documentation: https://pandas.pydata.org/pandas-docs/stable/user_guide/indexing.html#returning-a-view-versus-a-copy\n",
      "  X_test[column] = X_test[column].apply(lambda x: means[x] if x in means else x)\n",
      "<ipython-input-12-1cda3ae5e109>:19: SettingWithCopyWarning: \n",
      "A value is trying to be set on a copy of a slice from a DataFrame.\n",
      "Try using .loc[row_indexer,col_indexer] = value instead\n",
      "\n",
      "See the caveats in the documentation: https://pandas.pydata.org/pandas-docs/stable/user_guide/indexing.html#returning-a-view-versus-a-copy\n",
      "  X_train[column] = X_train[column].apply(lambda x: means[x])\n",
      "<ipython-input-12-1cda3ae5e109>:22: SettingWithCopyWarning: \n",
      "A value is trying to be set on a copy of a slice from a DataFrame.\n",
      "Try using .loc[row_indexer,col_indexer] = value instead\n",
      "\n",
      "See the caveats in the documentation: https://pandas.pydata.org/pandas-docs/stable/user_guide/indexing.html#returning-a-view-versus-a-copy\n",
      "  X_test[column] = X_test[column].apply(lambda x: means[x] if x in means else x)\n"
     ]
    }
   ],
   "source": [
    "X_train_new, X_test_new = add_mean_columns(X_train, X_test, y_train)"
   ]
  },
  {
   "cell_type": "code",
   "execution_count": 14,
   "metadata": {},
   "outputs": [],
   "source": [
    "X_test = X_test_new\n",
    "X_train = X_train_new"
   ]
  },
  {
   "cell_type": "code",
   "execution_count": 15,
   "metadata": {},
   "outputs": [],
   "source": [
    "def prop_reg(X_test,X_train,y_train,y_test,kappa):\n",
    "    d = np.zeros((len(X_test),len(X_train)))\n",
    "    for i in range(len(X_test)):\n",
    "        for j in range(len(X_train)):\n",
    "            d[i,j] = np.linalg.norm(X_test[i]-X_train[j])\n",
    "    c=np.zeros(len(y_test))\n",
    "    for i in range(len(y_test)):\n",
    "        l=0\n",
    "        v=0\n",
    "        for j in range(len(y_train)):\n",
    "            \n",
    "            l+=y_train[j]/((1+d[i,j])**kappa)\n",
    "            v+=1/((1+d[i,j])**kappa)\n",
    "        \n",
    "        c[i]=l/v\n",
    "    return(c)"
   ]
  },
  {
   "cell_type": "code",
   "execution_count": 16,
   "metadata": {},
   "outputs": [
    {
     "name": "stdout",
     "output_type": "stream",
     "text": [
      "kappa = 1.000, avg MSE = 47.509\n",
      "kappa = 2.000, avg MSE = 32.050\n",
      "kappa = 3.000, avg MSE = 23.849\n",
      "kappa = 4.000, avg MSE = 21.484\n",
      "kappa = 5.000, avg MSE = 21.434\n",
      "kappa = 6.000, avg MSE = 21.745\n",
      "kappa = 7.000, avg MSE = 22.037\n",
      "kappa = 8.000, avg MSE = 22.297\n",
      "kappa = 9.000, avg MSE = 22.531\n"
     ]
    },
    {
     "data": {
      "image/png": "[encoded data removed]",
      "text/plain": [
       "<Figure size 432x288 with 1 Axes>"
      ]
     },
     "metadata": {
      "needs_background": "light"
     },
     "output_type": "display_data"
    }
   ],
   "source": [
    "kf = KFold(n_splits=10)\n",
    "kappa_values = np.array([1,2,3,4,5,6,7,8,9])\n",
    "mse_values = []\n",
    "\n",
    "for kappa in kappa_values:\n",
    "    mse = 0.0\n",
    "    for train_index, test_index in kf.split(X):\n",
    "        X_train, X_test = X.values[train_index], X.values[test_index]\n",
    "        y_train, y_test = y.values[train_index], y.values[test_index]\n",
    "        y_pred = prop_reg(X_test, X_train, y_train, y_test, kappa)\n",
    "        mse += mean_squared_error(y_test, y_pred)\n",
    "    mse /= kf.get_n_splits(X)\n",
    "    mse_values.append(mse)\n",
    "    print(f\"kappa = {kappa:.3f}, avg MSE = {mse:.3f}\")\n",
    "\n",
    "# plot the MSE vs kappa curve\n",
    "plt.plot(kappa_values, mse_values, '-o')\n",
    "plt.xlabel('kappa')\n",
    "plt.ylabel('MSE')\n",
    "plt.title('MSE vs kappa')\n",
    "plt.show()"
   ]
  },
  {
   "cell_type": "code",
   "execution_count": null,
   "metadata": {},
   "outputs": [],
   "source": []
  },
  {
   "cell_type": "code",
   "execution_count": null,
   "metadata": {},
   "outputs": [],
   "source": []
  }
 ],
 "metadata": {
  "kernelspec": {
   "display_name": "Python 3",
   "language": "python",
   "name": "python3"
  },
  "language_info": {
   "codemirror_mode": {
    "name": "ipython",
    "version": 3
   },
   "file_extension": ".py",
   "mimetype": "text/x-python",
   "name": "python",
   "nbconvert_exporter": "python",
   "pygments_lexer": "ipython3",
   "version": "3.8.5"
  }
 },
 "nbformat": 4,
 "nbformat_minor": 4
}
