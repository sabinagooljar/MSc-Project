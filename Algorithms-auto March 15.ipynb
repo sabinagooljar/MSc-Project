{
 "cells": [
  {
   "cell_type": "code",
   "execution_count": 8,
   "metadata": {},
   "outputs": [],
   "source": [
    "import pandas as pd\n",
    "import numpy as np\n",
    "from sklearn.model_selection import train_test_split\n",
    "from sklearn.model_selection import KFold\n",
    "from sklearn.metrics import mean_squared_error\n",
    "from sklearn.linear_model import LinearRegression\n",
    "from sklearn.ensemble import RandomForestRegressor\n",
    "from sklearn.neighbors import KNeighborsRegressor\n",
    "from sklearn.tree import DecisionTreeRegressor\n",
    "from sklearn.cluster import KMeans\n",
    "import matplotlib.pyplot as plt\n",
    "from sklearn.model_selection import KFold, cross_val_score, cross_val_predict\n",
    "random_state=0"
   ]
  },
  {
   "cell_type": "code",
   "execution_count": 9,
   "metadata": {},
   "outputs": [],
   "source": [
    "data= pd.read_csv('auto-mpg.csv')\n"
   ]
  },
  {
   "cell_type": "code",
   "execution_count": 10,
   "metadata": {},
   "outputs": [],
   "source": [
    "# convert a feature to categorical\n",
    "data['carname'] = data['carname'].astype('category')\n",
    "data[\"carname\"] = data[\"carname\"].cat.codes"
   ]
  },
  {
   "cell_type": "code",
   "execution_count": 11,
   "metadata": {},
   "outputs": [
    {
     "data": {
      "text/html": [
       "<div>\n",
       "<style scoped>\n",
       "    .dataframe tbody tr th:only-of-type {\n",
       "        vertical-align: middle;\n",
       "    }\n",
       "\n",
       "    .dataframe tbody tr th {\n",
       "        vertical-align: top;\n",
       "    }\n",
       "\n",
       "    .dataframe thead th {\n",
       "        text-align: right;\n",
       "    }\n",
       "</style>\n",
       "<table border=\"1\" class=\"dataframe\">\n",
       "  <thead>\n",
       "    <tr style=\"text-align: right;\">\n",
       "      <th></th>\n",
       "      <th>mpg</th>\n",
       "      <th>cylinders</th>\n",
       "      <th>displacement</th>\n",
       "      <th>hp</th>\n",
       "      <th>weight</th>\n",
       "      <th>acc</th>\n",
       "      <th>year</th>\n",
       "      <th>carname</th>\n",
       "    </tr>\n",
       "  </thead>\n",
       "  <tbody>\n",
       "    <tr>\n",
       "      <th>0</th>\n",
       "      <td>18.0</td>\n",
       "      <td>8</td>\n",
       "      <td>307.0</td>\n",
       "      <td>130</td>\n",
       "      <td>3504</td>\n",
       "      <td>12.0</td>\n",
       "      <td>70</td>\n",
       "      <td>41</td>\n",
       "    </tr>\n",
       "    <tr>\n",
       "      <th>1</th>\n",
       "      <td>15.0</td>\n",
       "      <td>8</td>\n",
       "      <td>350.0</td>\n",
       "      <td>165</td>\n",
       "      <td>3693</td>\n",
       "      <td>11.5</td>\n",
       "      <td>70</td>\n",
       "      <td>26</td>\n",
       "    </tr>\n",
       "    <tr>\n",
       "      <th>2</th>\n",
       "      <td>18.0</td>\n",
       "      <td>8</td>\n",
       "      <td>318.0</td>\n",
       "      <td>150</td>\n",
       "      <td>3436</td>\n",
       "      <td>11.0</td>\n",
       "      <td>70</td>\n",
       "      <td>166</td>\n",
       "    </tr>\n",
       "    <tr>\n",
       "      <th>3</th>\n",
       "      <td>16.0</td>\n",
       "      <td>8</td>\n",
       "      <td>304.0</td>\n",
       "      <td>150</td>\n",
       "      <td>3433</td>\n",
       "      <td>12.0</td>\n",
       "      <td>70</td>\n",
       "      <td>13</td>\n",
       "    </tr>\n",
       "    <tr>\n",
       "      <th>4</th>\n",
       "      <td>17.0</td>\n",
       "      <td>8</td>\n",
       "      <td>302.0</td>\n",
       "      <td>140</td>\n",
       "      <td>3449</td>\n",
       "      <td>10.5</td>\n",
       "      <td>70</td>\n",
       "      <td>125</td>\n",
       "    </tr>\n",
       "  </tbody>\n",
       "</table>\n",
       "</div>"
      ],
      "text/plain": [
       "    mpg  cylinders  displacement   hp  weight   acc  year  carname\n",
       "0  18.0          8         307.0  130    3504  12.0    70       41\n",
       "1  15.0          8         350.0  165    3693  11.5    70       26\n",
       "2  18.0          8         318.0  150    3436  11.0    70      166\n",
       "3  16.0          8         304.0  150    3433  12.0    70       13\n",
       "4  17.0          8         302.0  140    3449  10.5    70      125"
      ]
     },
     "execution_count": 11,
     "metadata": {},
     "output_type": "execute_result"
    }
   ],
   "source": [
    "data.head()"
   ]
  },
  {
   "cell_type": "markdown",
   "metadata": {},
   "source": [
    "# Feature Selection"
   ]
  },
  {
   "cell_type": "code",
   "execution_count": 22,
   "metadata": {},
   "outputs": [],
   "source": [
    "\n",
    "# separate the features and the target variable\n",
    "X = data.iloc[:, 1:] # select all columns except the first one as features\n",
    "y = data.iloc[:, 0] # select the first column as the target variable\n",
    "\n",
    "# calculate the correlation matrix\n",
    "corr_matrix = X.corrwith(y)\n",
    "\n",
    "# sort the features by correlation with the target variable\n",
    "sorted_features = corr_matrix.abs().sort_values(ascending=False)\n",
    "\n",
    "# select the top k features\n",
    "k = 5 # set the number of top features to select\n",
    "selected_features = sorted_features[:k].index.tolist()\n",
    "\n",
    "# create a new dataframe with the selected features and the target variable\n",
    "df = data[[y.name] + selected_features]\n",
    "\n",
    "# separate the selected features and the target variable\n",
    "X = df_selected.iloc[:, 1:] # select all columns except the first one as features\n",
    "y = df_selected.iloc[:, 0] # select the first column as the target variable\n"
   ]
  },
  {
   "cell_type": "code",
   "execution_count": 23,
   "metadata": {},
   "outputs": [
    {
     "data": {
      "text/html": [
       "<div>\n",
       "<style scoped>\n",
       "    .dataframe tbody tr th:only-of-type {\n",
       "        vertical-align: middle;\n",
       "    }\n",
       "\n",
       "    .dataframe tbody tr th {\n",
       "        vertical-align: top;\n",
       "    }\n",
       "\n",
       "    .dataframe thead th {\n",
       "        text-align: right;\n",
       "    }\n",
       "</style>\n",
       "<table border=\"1\" class=\"dataframe\">\n",
       "  <thead>\n",
       "    <tr style=\"text-align: right;\">\n",
       "      <th></th>\n",
       "      <th>mpg</th>\n",
       "      <th>weight</th>\n",
       "      <th>displacement</th>\n",
       "      <th>hp</th>\n",
       "      <th>cylinders</th>\n",
       "      <th>year</th>\n",
       "    </tr>\n",
       "  </thead>\n",
       "  <tbody>\n",
       "    <tr>\n",
       "      <th>0</th>\n",
       "      <td>18.0</td>\n",
       "      <td>3504</td>\n",
       "      <td>307.0</td>\n",
       "      <td>130</td>\n",
       "      <td>8</td>\n",
       "      <td>70</td>\n",
       "    </tr>\n",
       "    <tr>\n",
       "      <th>1</th>\n",
       "      <td>15.0</td>\n",
       "      <td>3693</td>\n",
       "      <td>350.0</td>\n",
       "      <td>165</td>\n",
       "      <td>8</td>\n",
       "      <td>70</td>\n",
       "    </tr>\n",
       "    <tr>\n",
       "      <th>2</th>\n",
       "      <td>18.0</td>\n",
       "      <td>3436</td>\n",
       "      <td>318.0</td>\n",
       "      <td>150</td>\n",
       "      <td>8</td>\n",
       "      <td>70</td>\n",
       "    </tr>\n",
       "    <tr>\n",
       "      <th>3</th>\n",
       "      <td>16.0</td>\n",
       "      <td>3433</td>\n",
       "      <td>304.0</td>\n",
       "      <td>150</td>\n",
       "      <td>8</td>\n",
       "      <td>70</td>\n",
       "    </tr>\n",
       "    <tr>\n",
       "      <th>4</th>\n",
       "      <td>17.0</td>\n",
       "      <td>3449</td>\n",
       "      <td>302.0</td>\n",
       "      <td>140</td>\n",
       "      <td>8</td>\n",
       "      <td>70</td>\n",
       "    </tr>\n",
       "    <tr>\n",
       "      <th>...</th>\n",
       "      <td>...</td>\n",
       "      <td>...</td>\n",
       "      <td>...</td>\n",
       "      <td>...</td>\n",
       "      <td>...</td>\n",
       "      <td>...</td>\n",
       "    </tr>\n",
       "    <tr>\n",
       "      <th>387</th>\n",
       "      <td>27.0</td>\n",
       "      <td>2790</td>\n",
       "      <td>140.0</td>\n",
       "      <td>86</td>\n",
       "      <td>4</td>\n",
       "      <td>82</td>\n",
       "    </tr>\n",
       "    <tr>\n",
       "      <th>388</th>\n",
       "      <td>44.0</td>\n",
       "      <td>2130</td>\n",
       "      <td>97.0</td>\n",
       "      <td>52</td>\n",
       "      <td>4</td>\n",
       "      <td>82</td>\n",
       "    </tr>\n",
       "    <tr>\n",
       "      <th>389</th>\n",
       "      <td>32.0</td>\n",
       "      <td>2295</td>\n",
       "      <td>135.0</td>\n",
       "      <td>84</td>\n",
       "      <td>4</td>\n",
       "      <td>82</td>\n",
       "    </tr>\n",
       "    <tr>\n",
       "      <th>390</th>\n",
       "      <td>28.0</td>\n",
       "      <td>2625</td>\n",
       "      <td>120.0</td>\n",
       "      <td>79</td>\n",
       "      <td>4</td>\n",
       "      <td>82</td>\n",
       "    </tr>\n",
       "    <tr>\n",
       "      <th>391</th>\n",
       "      <td>31.0</td>\n",
       "      <td>2720</td>\n",
       "      <td>119.0</td>\n",
       "      <td>82</td>\n",
       "      <td>4</td>\n",
       "      <td>82</td>\n",
       "    </tr>\n",
       "  </tbody>\n",
       "</table>\n",
       "<p>392 rows × 6 columns</p>\n",
       "</div>"
      ],
      "text/plain": [
       "      mpg  weight  displacement   hp  cylinders  year\n",
       "0    18.0    3504         307.0  130          8    70\n",
       "1    15.0    3693         350.0  165          8    70\n",
       "2    18.0    3436         318.0  150          8    70\n",
       "3    16.0    3433         304.0  150          8    70\n",
       "4    17.0    3449         302.0  140          8    70\n",
       "..    ...     ...           ...  ...        ...   ...\n",
       "387  27.0    2790         140.0   86          4    82\n",
       "388  44.0    2130          97.0   52          4    82\n",
       "389  32.0    2295         135.0   84          4    82\n",
       "390  28.0    2625         120.0   79          4    82\n",
       "391  31.0    2720         119.0   82          4    82\n",
       "\n",
       "[392 rows x 6 columns]"
      ]
     },
     "execution_count": 23,
     "metadata": {},
     "output_type": "execute_result"
    }
   ],
   "source": [
    "df"
   ]
  },
  {
   "cell_type": "code",
   "execution_count": 14,
   "metadata": {},
   "outputs": [
    {
     "data": {
      "text/html": [
       "<div>\n",
       "<style scoped>\n",
       "    .dataframe tbody tr th:only-of-type {\n",
       "        vertical-align: middle;\n",
       "    }\n",
       "\n",
       "    .dataframe tbody tr th {\n",
       "        vertical-align: top;\n",
       "    }\n",
       "\n",
       "    .dataframe thead th {\n",
       "        text-align: right;\n",
       "    }\n",
       "</style>\n",
       "<table border=\"1\" class=\"dataframe\">\n",
       "  <thead>\n",
       "    <tr style=\"text-align: right;\">\n",
       "      <th></th>\n",
       "      <th>weight</th>\n",
       "      <th>displacement</th>\n",
       "      <th>hp</th>\n",
       "      <th>cylinders</th>\n",
       "      <th>year</th>\n",
       "    </tr>\n",
       "  </thead>\n",
       "  <tbody>\n",
       "    <tr>\n",
       "      <th>0</th>\n",
       "      <td>3504</td>\n",
       "      <td>307.0</td>\n",
       "      <td>130</td>\n",
       "      <td>8</td>\n",
       "      <td>70</td>\n",
       "    </tr>\n",
       "    <tr>\n",
       "      <th>1</th>\n",
       "      <td>3693</td>\n",
       "      <td>350.0</td>\n",
       "      <td>165</td>\n",
       "      <td>8</td>\n",
       "      <td>70</td>\n",
       "    </tr>\n",
       "    <tr>\n",
       "      <th>2</th>\n",
       "      <td>3436</td>\n",
       "      <td>318.0</td>\n",
       "      <td>150</td>\n",
       "      <td>8</td>\n",
       "      <td>70</td>\n",
       "    </tr>\n",
       "    <tr>\n",
       "      <th>3</th>\n",
       "      <td>3433</td>\n",
       "      <td>304.0</td>\n",
       "      <td>150</td>\n",
       "      <td>8</td>\n",
       "      <td>70</td>\n",
       "    </tr>\n",
       "    <tr>\n",
       "      <th>4</th>\n",
       "      <td>3449</td>\n",
       "      <td>302.0</td>\n",
       "      <td>140</td>\n",
       "      <td>8</td>\n",
       "      <td>70</td>\n",
       "    </tr>\n",
       "    <tr>\n",
       "      <th>...</th>\n",
       "      <td>...</td>\n",
       "      <td>...</td>\n",
       "      <td>...</td>\n",
       "      <td>...</td>\n",
       "      <td>...</td>\n",
       "    </tr>\n",
       "    <tr>\n",
       "      <th>387</th>\n",
       "      <td>2790</td>\n",
       "      <td>140.0</td>\n",
       "      <td>86</td>\n",
       "      <td>4</td>\n",
       "      <td>82</td>\n",
       "    </tr>\n",
       "    <tr>\n",
       "      <th>388</th>\n",
       "      <td>2130</td>\n",
       "      <td>97.0</td>\n",
       "      <td>52</td>\n",
       "      <td>4</td>\n",
       "      <td>82</td>\n",
       "    </tr>\n",
       "    <tr>\n",
       "      <th>389</th>\n",
       "      <td>2295</td>\n",
       "      <td>135.0</td>\n",
       "      <td>84</td>\n",
       "      <td>4</td>\n",
       "      <td>82</td>\n",
       "    </tr>\n",
       "    <tr>\n",
       "      <th>390</th>\n",
       "      <td>2625</td>\n",
       "      <td>120.0</td>\n",
       "      <td>79</td>\n",
       "      <td>4</td>\n",
       "      <td>82</td>\n",
       "    </tr>\n",
       "    <tr>\n",
       "      <th>391</th>\n",
       "      <td>2720</td>\n",
       "      <td>119.0</td>\n",
       "      <td>82</td>\n",
       "      <td>4</td>\n",
       "      <td>82</td>\n",
       "    </tr>\n",
       "  </tbody>\n",
       "</table>\n",
       "<p>392 rows × 5 columns</p>\n",
       "</div>"
      ],
      "text/plain": [
       "     weight  displacement   hp  cylinders  year\n",
       "0      3504         307.0  130          8    70\n",
       "1      3693         350.0  165          8    70\n",
       "2      3436         318.0  150          8    70\n",
       "3      3433         304.0  150          8    70\n",
       "4      3449         302.0  140          8    70\n",
       "..      ...           ...  ...        ...   ...\n",
       "387    2790         140.0   86          4    82\n",
       "388    2130          97.0   52          4    82\n",
       "389    2295         135.0   84          4    82\n",
       "390    2625         120.0   79          4    82\n",
       "391    2720         119.0   82          4    82\n",
       "\n",
       "[392 rows x 5 columns]"
      ]
     },
     "execution_count": 14,
     "metadata": {},
     "output_type": "execute_result"
    }
   ],
   "source": [
    "X"
   ]
  },
  {
   "cell_type": "code",
   "execution_count": 16,
   "metadata": {},
   "outputs": [],
   "source": [
    "X_train, X_test, y_train, y_test = train_test_split(X,y, test_size= 0.20,random_state=0)\n"
   ]
  },
  {
   "cell_type": "markdown",
   "metadata": {},
   "source": [
    "# Random Forest"
   ]
  },
  {
   "cell_type": "code",
   "execution_count": 17,
   "metadata": {},
   "outputs": [
    {
     "name": "stdout",
     "output_type": "stream",
     "text": [
      "-8.420076206021637\n",
      "-7.556425249999998\n"
     ]
    }
   ],
   "source": [
    "ranf = RandomForestRegressor(random_state=0)\n",
    "rf= ranf.fit(X_train,y_train)\n",
    "scores_rf= cross_val_score(rf, X_train, y_train, scoring='neg_mean_squared_error', cv=10)\n",
    "scores_rf\n",
    "print(np.mean(scores_rf))\n",
    "\n",
    "y_pred_rf = cross_val_predict(ranf, X_test,y_test)\n",
    "scores_test_rf= cross_val_score(ranf, X_test, y_test,scoring='neg_mean_squared_error',cv=10)\n",
    "print(np.mean(scores_test_rf))"
   ]
  },
  {
   "cell_type": "markdown",
   "metadata": {},
   "source": [
    "# Decision Tree"
   ]
  },
  {
   "cell_type": "code",
   "execution_count": 18,
   "metadata": {},
   "outputs": [
    {
     "name": "stdout",
     "output_type": "stream",
     "text": [
      "-15.650972782258066\n",
      "-16.07926785714286\n"
     ]
    }
   ],
   "source": [
    "#Decision Tree\n",
    "dectree = DecisionTreeRegressor(random_state = 0)\n",
    "dt= dectree.fit(X_train,y_train)\n",
    "scores_dt= cross_val_score(dt, X_train, y_train, scoring='neg_mean_squared_error', cv=10)\n",
    "print(np.mean(scores_dt))\n",
    "\n",
    "y_pred_dt = cross_val_predict(dectree, X_test,y_test)\n",
    "scores_test_dt= cross_val_score(dectree, X_test, y_test,scoring='neg_mean_squared_error',cv=10)\n",
    "print(np.mean(scores_test_dt))"
   ]
  },
  {
   "cell_type": "markdown",
   "metadata": {},
   "source": [
    "# KNN"
   ]
  },
  {
   "cell_type": "code",
   "execution_count": 19,
   "metadata": {},
   "outputs": [
    {
     "name": "stdout",
     "output_type": "stream",
     "text": [
      "-20.03147\n"
     ]
    }
   ],
   "source": [
    "# Instance and fit\n",
    "knn_model = KNeighborsRegressor(n_neighbors=5).fit(X_train, y_train)\n",
    "y_pred_knn = cross_val_predict(knn_model, X_test,y_test)\n",
    "scores_test_knn= cross_val_score(knn_model, X_test, y_test,scoring='neg_mean_squared_error',cv=10)\n",
    "print(np.mean(scores_test_knn))\n"
   ]
  },
  {
   "cell_type": "code",
   "execution_count": null,
   "metadata": {},
   "outputs": [],
   "source": [
    "# calculate MSE for each algorithm\n",
    "mse_values = {}\n",
    "\n",
    "# Random Forest\n",
    "ranf = RandomForestRegressor(random_state=0)\n",
    "rf= ranf.fit(X_train,y_train)\n",
    "scores_rf= cross_val_score(rf, X_train, y_train, scoring='neg_mean_squared_error', cv=10)\n",
    "mse_values['Random Forest'] = np.mean(scores_rf)\n",
    "\n",
    "# Decision Tree\n",
    "dectree = DecisionTreeRegressor(random_state = 0)\n",
    "dt= dectree.fit(X_train,y_train)\n",
    "scores_dt= cross_val_score(dt, X_train, y_train, scoring='neg_mean_squared_error', cv=10)\n",
    "mse_values['Decision Tree'] = np.mean(scores_dt)\n",
    "\n",
    "# KNN\n",
    "knn_model = KNeighborsRegressor(n_neighbors=5).fit(X_train, y_train)\n",
    "scores_knn= cross_val_score(knn_model, X_test, y_test,scoring='neg_mean_squared_error',cv=10)\n",
    "mse_values['KNN'] = np.mean(scores_knn)\n",
    "\n",
    "# create bar plot\n",
    "fig, ax = plt.subplots()\n",
    "ax.bar(mse_values.keys(), mse_values.values())\n",
    "ax.set_xlabel('Algorithm')\n",
    "ax.set_ylabel('MSE')\n",
    "ax.set_title('Mean Squared Error for Different Algorithms')\n",
    "plt.show()\n"
   ]
  },
  {
   "cell_type": "markdown",
   "metadata": {},
   "source": [
    "# Proposed Algorithm"
   ]
  },
  {
   "cell_type": "code",
   "execution_count": 40,
   "metadata": {},
   "outputs": [],
   "source": [
    "# create 10 categories with labels 1 to 10\n",
    "X['displacement'] = pd.qcut(X['displacement'], q=10, labels=range(1, 11))\n",
    "\n"
   ]
  },
  {
   "cell_type": "code",
   "execution_count": 41,
   "metadata": {},
   "outputs": [],
   "source": [
    "# create 10 categories with labels 1 to 10\n",
    "X['year'] = pd.qcut(X['year'], q=10, labels=range(1, 11), duplicates='drop')\n"
   ]
  },
  {
   "cell_type": "code",
   "execution_count": 43,
   "metadata": {},
   "outputs": [],
   "source": [
    "X['weight'] = pd.qcut(X['weight'], q=10, labels=range(1, 11), duplicates='drop')\n"
   ]
  },
  {
   "cell_type": "code",
   "execution_count": 45,
   "metadata": {},
   "outputs": [],
   "source": [
    "# create 10 categories with labels 1 to 10\n",
    "X['hp'] = pd.qcut(X['hp'], q=10, labels=range(1, 11),duplicates='drop')"
   ]
  },
  {
   "cell_type": "code",
   "execution_count": 46,
   "metadata": {},
   "outputs": [
    {
     "data": {
      "text/html": [
       "<div>\n",
       "<style scoped>\n",
       "    .dataframe tbody tr th:only-of-type {\n",
       "        vertical-align: middle;\n",
       "    }\n",
       "\n",
       "    .dataframe tbody tr th {\n",
       "        vertical-align: top;\n",
       "    }\n",
       "\n",
       "    .dataframe thead th {\n",
       "        text-align: right;\n",
       "    }\n",
       "</style>\n",
       "<table border=\"1\" class=\"dataframe\">\n",
       "  <thead>\n",
       "    <tr style=\"text-align: right;\">\n",
       "      <th></th>\n",
       "      <th>weight</th>\n",
       "      <th>displacement</th>\n",
       "      <th>hp</th>\n",
       "      <th>cylinders</th>\n",
       "      <th>year</th>\n",
       "    </tr>\n",
       "  </thead>\n",
       "  <tbody>\n",
       "    <tr>\n",
       "      <th>0</th>\n",
       "      <td>8</td>\n",
       "      <td>9</td>\n",
       "      <td>8</td>\n",
       "      <td>8</td>\n",
       "      <td>1</td>\n",
       "    </tr>\n",
       "    <tr>\n",
       "      <th>1</th>\n",
       "      <td>8</td>\n",
       "      <td>9</td>\n",
       "      <td>10</td>\n",
       "      <td>8</td>\n",
       "      <td>1</td>\n",
       "    </tr>\n",
       "    <tr>\n",
       "      <th>2</th>\n",
       "      <td>8</td>\n",
       "      <td>9</td>\n",
       "      <td>9</td>\n",
       "      <td>8</td>\n",
       "      <td>1</td>\n",
       "    </tr>\n",
       "    <tr>\n",
       "      <th>3</th>\n",
       "      <td>8</td>\n",
       "      <td>8</td>\n",
       "      <td>9</td>\n",
       "      <td>8</td>\n",
       "      <td>1</td>\n",
       "    </tr>\n",
       "    <tr>\n",
       "      <th>4</th>\n",
       "      <td>8</td>\n",
       "      <td>8</td>\n",
       "      <td>8</td>\n",
       "      <td>8</td>\n",
       "      <td>1</td>\n",
       "    </tr>\n",
       "    <tr>\n",
       "      <th>...</th>\n",
       "      <td>...</td>\n",
       "      <td>...</td>\n",
       "      <td>...</td>\n",
       "      <td>...</td>\n",
       "      <td>...</td>\n",
       "    </tr>\n",
       "    <tr>\n",
       "      <th>387</th>\n",
       "      <td>5</td>\n",
       "      <td>5</td>\n",
       "      <td>4</td>\n",
       "      <td>4</td>\n",
       "      <td>10</td>\n",
       "    </tr>\n",
       "    <tr>\n",
       "      <th>388</th>\n",
       "      <td>2</td>\n",
       "      <td>2</td>\n",
       "      <td>1</td>\n",
       "      <td>4</td>\n",
       "      <td>10</td>\n",
       "    </tr>\n",
       "    <tr>\n",
       "      <th>389</th>\n",
       "      <td>3</td>\n",
       "      <td>5</td>\n",
       "      <td>4</td>\n",
       "      <td>4</td>\n",
       "      <td>10</td>\n",
       "    </tr>\n",
       "    <tr>\n",
       "      <th>390</th>\n",
       "      <td>5</td>\n",
       "      <td>4</td>\n",
       "      <td>3</td>\n",
       "      <td>4</td>\n",
       "      <td>10</td>\n",
       "    </tr>\n",
       "    <tr>\n",
       "      <th>391</th>\n",
       "      <td>5</td>\n",
       "      <td>4</td>\n",
       "      <td>4</td>\n",
       "      <td>4</td>\n",
       "      <td>10</td>\n",
       "    </tr>\n",
       "  </tbody>\n",
       "</table>\n",
       "<p>392 rows × 5 columns</p>\n",
       "</div>"
      ],
      "text/plain": [
       "    weight displacement  hp  cylinders year\n",
       "0        8            9   8          8    1\n",
       "1        8            9  10          8    1\n",
       "2        8            9   9          8    1\n",
       "3        8            8   9          8    1\n",
       "4        8            8   8          8    1\n",
       "..     ...          ...  ..        ...  ...\n",
       "387      5            5   4          4   10\n",
       "388      2            2   1          4   10\n",
       "389      3            5   4          4   10\n",
       "390      5            4   3          4   10\n",
       "391      5            4   4          4   10\n",
       "\n",
       "[392 rows x 5 columns]"
      ]
     },
     "execution_count": 46,
     "metadata": {},
     "output_type": "execute_result"
    }
   ],
   "source": [
    "X"
   ]
  },
  {
   "cell_type": "code",
   "execution_count": 47,
   "metadata": {},
   "outputs": [],
   "source": [
    "X_train, X_test, y_train, y_test = train_test_split(X,y, test_size= 0.20,random_state=0)\n"
   ]
  },
  {
   "cell_type": "code",
   "execution_count": 48,
   "metadata": {},
   "outputs": [],
   "source": [
    "def add_mean_columns(X_train, X_test, y_train):\n",
    "    \n",
    "    # Iterate over each column in X_train\n",
    "    for column in X_train.columns:\n",
    "\n",
    "        # Skip mean columns\n",
    "        #if column.endswith('_mean'):\n",
    "           # continue\n",
    "\n",
    "        # Find the unique values in the column\n",
    "        unique_values = X_train[column].unique()\n",
    "\n",
    "        # Calculate the mean for each unique value using y_train\n",
    "        means = {}\n",
    "        for value in unique_values:\n",
    "            means[value] = y_train[X_train[column] == value].mean()\n",
    "\n",
    "        # Replace the column in X_train with the corresponding means\n",
    "        X_train[column] = X_train[column].apply(lambda x: means[x])\n",
    "\n",
    "        # Replace the column in X_test with the corresponding means\n",
    "        X_test[column] = X_test[column].apply(lambda x: means[x] if x in means else x)\n",
    "\n",
    "        # Check for unique values in X_test that are not in X_train\n",
    "        missing_values = set(X_test[column].unique()) - set(X_train[column].unique())\n",
    "        if missing_values:\n",
    "            print(f\"Warning: Unique values {missing_values} in {column} of X_test not found in X_train.\")\n",
    "\n",
    "    return X_train, X_test"
   ]
  },
  {
   "cell_type": "code",
   "execution_count": 49,
   "metadata": {},
   "outputs": [
    {
     "name": "stderr",
     "output_type": "stream",
     "text": [
      "<ipython-input-48-1cda3ae5e109>:19: SettingWithCopyWarning: \n",
      "A value is trying to be set on a copy of a slice from a DataFrame.\n",
      "Try using .loc[row_indexer,col_indexer] = value instead\n",
      "\n",
      "See the caveats in the documentation: https://pandas.pydata.org/pandas-docs/stable/user_guide/indexing.html#returning-a-view-versus-a-copy\n",
      "  X_train[column] = X_train[column].apply(lambda x: means[x])\n",
      "<ipython-input-48-1cda3ae5e109>:22: SettingWithCopyWarning: \n",
      "A value is trying to be set on a copy of a slice from a DataFrame.\n",
      "Try using .loc[row_indexer,col_indexer] = value instead\n",
      "\n",
      "See the caveats in the documentation: https://pandas.pydata.org/pandas-docs/stable/user_guide/indexing.html#returning-a-view-versus-a-copy\n",
      "  X_test[column] = X_test[column].apply(lambda x: means[x] if x in means else x)\n",
      "<ipython-input-48-1cda3ae5e109>:19: SettingWithCopyWarning: \n",
      "A value is trying to be set on a copy of a slice from a DataFrame.\n",
      "Try using .loc[row_indexer,col_indexer] = value instead\n",
      "\n",
      "See the caveats in the documentation: https://pandas.pydata.org/pandas-docs/stable/user_guide/indexing.html#returning-a-view-versus-a-copy\n",
      "  X_train[column] = X_train[column].apply(lambda x: means[x])\n",
      "<ipython-input-48-1cda3ae5e109>:22: SettingWithCopyWarning: \n",
      "A value is trying to be set on a copy of a slice from a DataFrame.\n",
      "Try using .loc[row_indexer,col_indexer] = value instead\n",
      "\n",
      "See the caveats in the documentation: https://pandas.pydata.org/pandas-docs/stable/user_guide/indexing.html#returning-a-view-versus-a-copy\n",
      "  X_test[column] = X_test[column].apply(lambda x: means[x] if x in means else x)\n"
     ]
    }
   ],
   "source": [
    "X_train_new, X_test_new = add_mean_columns(X_train, X_test, y_train)"
   ]
  },
  {
   "cell_type": "code",
   "execution_count": 50,
   "metadata": {},
   "outputs": [],
   "source": [
    "X_test = X_test_new\n",
    "X_train = X_train_new"
   ]
  },
  {
   "cell_type": "code",
   "execution_count": 51,
   "metadata": {},
   "outputs": [],
   "source": [
    "def prop_reg(X_test,X_train,y_train,y_test,kappa):\n",
    "    d = np.zeros((len(X_test),len(X_train)))\n",
    "    for i in range(len(X_test)):\n",
    "        for j in range(len(X_train)):\n",
    "            d[i,j] = np.linalg.norm(X_test[i]-X_train[j])\n",
    "    c=np.zeros(len(y_test))\n",
    "    for i in range(len(y_test)):\n",
    "        l=0\n",
    "        v=0\n",
    "        for j in range(len(y_train)):\n",
    "            \n",
    "            l+=y_train[j]/((1+d[i,j])**kappa)\n",
    "            v+=1/((1+d[i,j])**kappa)\n",
    "        \n",
    "        c[i]=l/v\n",
    "    return(c)"
   ]
  },
  {
   "cell_type": "code",
   "execution_count": 52,
   "metadata": {},
   "outputs": [
    {
     "name": "stdout",
     "output_type": "stream",
     "text": [
      "kappa = 1.000, avg MSE = 34.551\n",
      "kappa = 2.000, avg MSE = 16.882\n",
      "kappa = 3.000, avg MSE = 10.961\n",
      "kappa = 4.000, avg MSE = 9.481\n",
      "kappa = 5.000, avg MSE = 9.177\n",
      "kappa = 6.000, avg MSE = 9.207\n",
      "kappa = 7.000, avg MSE = 9.360\n",
      "kappa = 8.000, avg MSE = 9.559\n",
      "kappa = 9.000, avg MSE = 9.771\n"
     ]
    },
    {
     "data": {
      "image/png": "[encoded data removed]",
      "text/plain": [
       "<Figure size 432x288 with 1 Axes>"
      ]
     },
     "metadata": {
      "needs_background": "light"
     },
     "output_type": "display_data"
    }
   ],
   "source": [
    "kf = KFold(n_splits=10)\n",
    "kappa_values = np.array([1,2,3,4,5,6,7,8,9])\n",
    "mse_values = []\n",
    "\n",
    "for kappa in kappa_values:\n",
    "    mse = 0.0\n",
    "    for train_index, test_index in kf.split(X):\n",
    "        X_train, X_test = X.values[train_index], X.values[test_index]\n",
    "        y_train, y_test = y.values[train_index], y.values[test_index]\n",
    "        y_pred = prop_reg(X_test, X_train, y_train, y_test, kappa)\n",
    "        mse += mean_squared_error(y_test, y_pred)\n",
    "    mse /= kf.get_n_splits(X)\n",
    "    mse_values.append(mse)\n",
    "    print(f\"kappa = {kappa:.3f}, avg MSE = {mse:.3f}\")\n",
    "\n",
    "# plot the MSE vs kappa curve\n",
    "plt.plot(kappa_values, mse_values, '-o')\n",
    "plt.xlabel('kappa')\n",
    "plt.ylabel('MSE')\n",
    "plt.title('MSE vs kappa')\n",
    "plt.show()"
   ]
  },
  {
   "cell_type": "code",
   "execution_count": 53,
   "metadata": {},
   "outputs": [
    {
     "name": "stdout",
     "output_type": "stream",
     "text": [
      "Minimum MSE: 9.177, Kappa value: 5\n"
     ]
    }
   ],
   "source": [
    "# find the index of the minimum MSE value\n",
    "min_index = np.argmin(mse_values)\n",
    "\n",
    "# print the minimum MSE value and the corresponding kappa value\n",
    "print(f\"Minimum MSE: {mse_values[min_index]:.3f}, Kappa value: {kappa_values[min_index]}\")\n"
   ]
  },
  {
   "cell_type": "code",
   "execution_count": 54,
   "metadata": {},
   "outputs": [
    {
     "data": {
      "text/plain": [
       "Text(0.5, -0.4, 'Bar Graph showing the MSE for different algorithms')"
      ]
     },
     "execution_count": 54,
     "metadata": {},
     "output_type": "execute_result"
    },
    {
     "data": {
      "image/png": "[encoded data removed]",
      "text/plain": [
       "<Figure size 432x288 with 1 Axes>"
      ]
     },
     "metadata": {
      "needs_background": "light"
     },
     "output_type": "display_data"
    }
   ],
   "source": [
    "\n",
    "values = [7.56, 16.08,20.03,9.177]\n",
    "labels = ['Random Forest', 'Decision Tree', 'KNN','Proposed Algorithm']\n",
    "fig, ax = plt.subplots()\n",
    "ax.bar(labels, values, color=['green','red','blue','purple'])\n",
    "\n",
    "# add labels and title\n",
    "ax.set_xlabel('Algorithms')\n",
    "ax.set_ylabel('MSE')\n",
    "ax.set_title('Bar Graph showing the MSE for different algorithms', loc='center', y=-0.4)\n"
   ]
  },
  {
   "cell_type": "code",
   "execution_count": null,
   "metadata": {},
   "outputs": [],
   "source": []
  }
 ],
 "metadata": {
  "kernelspec": {
   "display_name": "Python 3",
   "language": "python",
   "name": "python3"
  },
  "language_info": {
   "codemirror_mode": {
    "name": "ipython",
    "version": 3
   },
   "file_extension": ".py",
   "mimetype": "text/x-python",
   "name": "python",
   "nbconvert_exporter": "python",
   "pygments_lexer": "ipython3",
   "version": "3.8.5"
  }
 },
 "nbformat": 4,
 "nbformat_minor": 4
}
