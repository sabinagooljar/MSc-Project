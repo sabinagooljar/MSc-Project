{
 "cells": [
  {
   "cell_type": "code",
   "execution_count": 1,
   "metadata": {},
   "outputs": [],
   "source": [
    "import pandas as pd\n",
    "import numpy as np\n",
    "import warnings\n",
    "from sklearn.model_selection import train_test_split\n",
    "from sklearn.model_selection import KFold\n",
    "from sklearn.metrics import mean_squared_error\n",
    "from sklearn.linear_model import LinearRegression\n",
    "from sklearn.ensemble import RandomForestRegressor\n",
    "from sklearn.neighbors import KNeighborsRegressor\n",
    "from sklearn.tree import DecisionTreeRegressor\n",
    "from sklearn.cluster import KMeans\n",
    "import matplotlib.pyplot as plt\n",
    "from sklearn.model_selection import KFold, cross_val_score, cross_val_predict\n",
    "random_state=0"
   ]
  },
  {
   "cell_type": "code",
   "execution_count": 2,
   "metadata": {},
   "outputs": [],
   "source": [
    "df= pd.read_csv('winequality.csv')"
   ]
  },
  {
   "cell_type": "code",
   "execution_count": 3,
   "metadata": {},
   "outputs": [
    {
     "data": {
      "text/html": [
       "<div>\n",
       "<style scoped>\n",
       "    .dataframe tbody tr th:only-of-type {\n",
       "        vertical-align: middle;\n",
       "    }\n",
       "\n",
       "    .dataframe tbody tr th {\n",
       "        vertical-align: top;\n",
       "    }\n",
       "\n",
       "    .dataframe thead th {\n",
       "        text-align: right;\n",
       "    }\n",
       "</style>\n",
       "<table border=\"1\" class=\"dataframe\">\n",
       "  <thead>\n",
       "    <tr style=\"text-align: right;\">\n",
       "      <th></th>\n",
       "      <th>fixed acidity</th>\n",
       "      <th>volatile acidity</th>\n",
       "      <th>citric acid</th>\n",
       "      <th>chlorides</th>\n",
       "      <th>free sulfur dioxide</th>\n",
       "      <th>total sulfur dioxide</th>\n",
       "      <th>density</th>\n",
       "      <th>pH</th>\n",
       "      <th>sulphates</th>\n",
       "      <th>alcohol</th>\n",
       "      <th>quality</th>\n",
       "      <th>residual sugar</th>\n",
       "    </tr>\n",
       "  </thead>\n",
       "  <tbody>\n",
       "    <tr>\n",
       "      <th>0</th>\n",
       "      <td>7.4</td>\n",
       "      <td>0.70</td>\n",
       "      <td>0.00</td>\n",
       "      <td>0.076</td>\n",
       "      <td>11.0</td>\n",
       "      <td>34.0</td>\n",
       "      <td>0.9978</td>\n",
       "      <td>3.51</td>\n",
       "      <td>0.56</td>\n",
       "      <td>9.4</td>\n",
       "      <td>5</td>\n",
       "      <td>1.9</td>\n",
       "    </tr>\n",
       "    <tr>\n",
       "      <th>1</th>\n",
       "      <td>7.8</td>\n",
       "      <td>0.88</td>\n",
       "      <td>0.00</td>\n",
       "      <td>0.098</td>\n",
       "      <td>25.0</td>\n",
       "      <td>67.0</td>\n",
       "      <td>0.9968</td>\n",
       "      <td>3.20</td>\n",
       "      <td>0.68</td>\n",
       "      <td>9.8</td>\n",
       "      <td>5</td>\n",
       "      <td>2.6</td>\n",
       "    </tr>\n",
       "    <tr>\n",
       "      <th>2</th>\n",
       "      <td>7.8</td>\n",
       "      <td>0.76</td>\n",
       "      <td>0.04</td>\n",
       "      <td>0.092</td>\n",
       "      <td>15.0</td>\n",
       "      <td>54.0</td>\n",
       "      <td>0.9970</td>\n",
       "      <td>3.26</td>\n",
       "      <td>0.65</td>\n",
       "      <td>9.8</td>\n",
       "      <td>5</td>\n",
       "      <td>2.3</td>\n",
       "    </tr>\n",
       "    <tr>\n",
       "      <th>3</th>\n",
       "      <td>11.2</td>\n",
       "      <td>0.28</td>\n",
       "      <td>0.56</td>\n",
       "      <td>0.075</td>\n",
       "      <td>17.0</td>\n",
       "      <td>60.0</td>\n",
       "      <td>0.9980</td>\n",
       "      <td>3.16</td>\n",
       "      <td>0.58</td>\n",
       "      <td>9.8</td>\n",
       "      <td>6</td>\n",
       "      <td>1.9</td>\n",
       "    </tr>\n",
       "    <tr>\n",
       "      <th>4</th>\n",
       "      <td>7.4</td>\n",
       "      <td>0.70</td>\n",
       "      <td>0.00</td>\n",
       "      <td>0.076</td>\n",
       "      <td>11.0</td>\n",
       "      <td>34.0</td>\n",
       "      <td>0.9978</td>\n",
       "      <td>3.51</td>\n",
       "      <td>0.56</td>\n",
       "      <td>9.4</td>\n",
       "      <td>5</td>\n",
       "      <td>1.9</td>\n",
       "    </tr>\n",
       "  </tbody>\n",
       "</table>\n",
       "</div>"
      ],
      "text/plain": [
       "   fixed acidity  volatile acidity  citric acid  chlorides  \\\n",
       "0            7.4              0.70         0.00      0.076   \n",
       "1            7.8              0.88         0.00      0.098   \n",
       "2            7.8              0.76         0.04      0.092   \n",
       "3           11.2              0.28         0.56      0.075   \n",
       "4            7.4              0.70         0.00      0.076   \n",
       "\n",
       "   free sulfur dioxide  total sulfur dioxide  density    pH  sulphates  \\\n",
       "0                 11.0                  34.0   0.9978  3.51       0.56   \n",
       "1                 25.0                  67.0   0.9968  3.20       0.68   \n",
       "2                 15.0                  54.0   0.9970  3.26       0.65   \n",
       "3                 17.0                  60.0   0.9980  3.16       0.58   \n",
       "4                 11.0                  34.0   0.9978  3.51       0.56   \n",
       "\n",
       "   alcohol  quality  residual sugar  \n",
       "0      9.4        5             1.9  \n",
       "1      9.8        5             2.6  \n",
       "2      9.8        5             2.3  \n",
       "3      9.8        6             1.9  \n",
       "4      9.4        5             1.9  "
      ]
     },
     "execution_count": 3,
     "metadata": {},
     "output_type": "execute_result"
    }
   ],
   "source": [
    "df.head()"
   ]
  },
  {
   "cell_type": "code",
   "execution_count": 4,
   "metadata": {},
   "outputs": [],
   "source": [
    "X = df.iloc[:, :-1] \n",
    "y = df.iloc[:, -1] \n"
   ]
  },
  {
   "cell_type": "code",
   "execution_count": 5,
   "metadata": {},
   "outputs": [
    {
     "data": {
      "text/plain": [
       "0       1.9\n",
       "1       2.6\n",
       "2       2.3\n",
       "3       1.9\n",
       "4       1.9\n",
       "       ... \n",
       "1594    2.0\n",
       "1595    2.2\n",
       "1596    2.3\n",
       "1597    2.0\n",
       "1598    3.6\n",
       "Name: residual sugar, Length: 1599, dtype: float64"
      ]
     },
     "execution_count": 5,
     "metadata": {},
     "output_type": "execute_result"
    }
   ],
   "source": [
    "y"
   ]
  },
  {
   "cell_type": "code",
   "execution_count": 6,
   "metadata": {},
   "outputs": [],
   "source": [
    "X_train, X_test, y_train, y_test = train_test_split(X,y, test_size= 0.20,random_state=0)"
   ]
  },
  {
   "cell_type": "code",
   "execution_count": 7,
   "metadata": {},
   "outputs": [
    {
     "name": "stdout",
     "output_type": "stream",
     "text": [
      "-1.3819467648437502\n",
      "-2.4197421875\n",
      "-1.5563928125\n"
     ]
    }
   ],
   "source": [
    "ranf = RandomForestRegressor(random_state=0)\n",
    "rf= ranf.fit(X_train,y_train)\n",
    "scores_rf= cross_val_score(rf, X_train, y_train, scoring='neg_mean_squared_error', cv=10)\n",
    "scores_rf\n",
    "#print(np.mean(scores_rf))\n",
    "\n",
    "y_pred_rf = cross_val_predict(ranf, X_test,y_test)\n",
    "scores_test_rf= cross_val_score(ranf, X_test, y_test,scoring='neg_mean_squared_error',cv=10)\n",
    "print(np.mean(scores_test_rf))\n",
    "\n",
    "\n",
    "#Decision Tree\n",
    "dectree = DecisionTreeRegressor(random_state = 0)\n",
    "dt= dectree.fit(X_train,y_train)\n",
    "scores_dt= cross_val_score(dt, X_train, y_train, scoring='neg_mean_squared_error', cv=10)\n",
    "#print(np.mean(scores_dt))\n",
    "\n",
    "y_pred_dt = cross_val_predict(dectree, X_test,y_test)\n",
    "scores_test_dt= cross_val_score(dectree, X_test, y_test,scoring='neg_mean_squared_error',cv=10)\n",
    "print(np.mean(scores_test_dt))\n",
    "\n",
    "\n",
    "# Instance and fit\n",
    "knn_model = KNeighborsRegressor(n_neighbors=5).fit(X_train, y_train)\n",
    "y_pred_knn = cross_val_predict(knn_model, X_test,y_test)\n",
    "scores_test_knn= cross_val_score(knn_model, X_test, y_test,scoring='neg_mean_squared_error',cv=10)\n",
    "print(np.mean(scores_test_knn))"
   ]
  },
  {
   "cell_type": "code",
   "execution_count": 8,
   "metadata": {},
   "outputs": [
    {
     "name": "stdout",
     "output_type": "stream",
     "text": [
      "kappa = 1.000, avg MSE = 1.953\n",
      "kappa = 2.000, avg MSE = 1.932\n",
      "kappa = 3.000, avg MSE = 1.933\n",
      "kappa = 4.000, avg MSE = 1.949\n",
      "kappa = 5.000, avg MSE = 1.985\n",
      "kappa = 6.000, avg MSE = 2.036\n",
      "kappa = 7.000, avg MSE = 2.090\n",
      "kappa = 8.000, avg MSE = 2.142\n",
      "kappa = 9.000, avg MSE = 2.190\n",
      "kappa = 10.000, avg MSE = 2.234\n"
     ]
    },
    {
     "data": {
      "image/png": "[encoded data removed]",
      "text/plain": [
       "<Figure size 432x288 with 1 Axes>"
      ]
     },
     "metadata": {
      "needs_background": "light"
     },
     "output_type": "display_data"
    }
   ],
   "source": [
    "def impute_missing_values(X_train, X_test, y_train, kappa):\n",
    "    y_train_np = y_train.to_numpy()\n",
    "    mean_values = X_train.apply(lambda col: y_train.groupby(X_train[col.name]).mean())\n",
    "\n",
    "    unique_values = {col: X_train[col].unique() for col in X_train.columns}\n",
    "    imputed_values_train = {}\n",
    "    imputed_values_test = {}\n",
    "\n",
    "    for col in X_train.columns:\n",
    "        imputed_values_train[col] = {val: mean_values[col][val] for val in unique_values[col]}\n",
    "        imputed_values_test[col] = {val: mean_values[col][val] for val in unique_values[col] if val in X_test[col].unique()}\n",
    "\n",
    "        extra_values = set(X_test[col].unique()) - set(unique_values[col])\n",
    "        if extra_values:\n",
    "            X_train_imputed = X_train.copy()\n",
    "            X_test_imputed = X_test.copy()\n",
    "\n",
    "    for col in X_train.columns:\n",
    "        X_train_imputed[col] = X_train[col].map(imputed_values_train[col])\n",
    "\n",
    "    for col in X_test.columns:\n",
    "        X_test_imputed[col] = X_test[col].apply(lambda x: imputed_values_test[col].get(x, np.nan))\n",
    "\n",
    "    for col in X_test_imputed.columns:\n",
    "        missing_indices = X_test_imputed[X_test_imputed[col].isna()].index\n",
    "\n",
    "        if len(missing_indices) > 0:\n",
    "            d = np.linalg.norm(X_test.loc[missing_indices].values[:, np.newaxis] - X_train.values, axis=2)\n",
    "\n",
    "            for i, idx in enumerate(missing_indices):\n",
    "                l = 0\n",
    "                v = 0\n",
    "                for j in range(len(y_train)):\n",
    "                    l += y_train_np[j] / ((1 + d[i, j]) ** kappa)\n",
    "                    v += 1 / ((1 + d[i, j]) ** kappa)\n",
    "                imputed_value = l / v\n",
    "                X_test_imputed.at[idx, col] = imputed_value\n",
    "\n",
    "    return X_train_imputed, X_test_imputed\n",
    "\n",
    "X_trainnew, X_testnew=impute_missing_values(X_train, X_test, y_train, kappa=2)\n",
    "\n",
    "X_test= X_testnew\n",
    "X_train= X_trainnew\n",
    "\n",
    "\n",
    "def prop_reg(X_test,X_train,y_train,y_test,kappa):\n",
    "    d = np.zeros((len(X_test),len(X_train)))\n",
    "    for i in range(len(X_test)):\n",
    "        for j in range(len(X_train)):\n",
    "            d[i,j] = np.linalg.norm(X_test[i]-X_train[j])\n",
    "    c=np.zeros(len(y_test))\n",
    "    for i in range(len(y_test)):\n",
    "        l=0\n",
    "        v=0\n",
    "        for j in range(len(y_train)):\n",
    "            \n",
    "            l+=y_train[j]/((1+d[i,j])**kappa)\n",
    "            v+=1/((1+d[i,j])**kappa)\n",
    "        \n",
    "        c[i]=l/v\n",
    "    return(c)\n",
    "\n",
    "kf = KFold(n_splits=10)\n",
    "kappa_values = np.array([1,2,3,4,5,6,7,8,9,10])\n",
    "mse_values = []\n",
    "\n",
    "for kappa in kappa_values:\n",
    "    mse = 0.0\n",
    "    for train_index, test_index in kf.split(X):\n",
    "        X_train, X_test = X.values[train_index], X.values[test_index]\n",
    "        y_train, y_test = y.values[train_index], y.values[test_index]\n",
    "        y_pred = prop_reg(X_test, X_train, y_train, y_test, kappa)\n",
    "        mse += mean_squared_error(y_test, y_pred)\n",
    "    mse /= kf.get_n_splits(X)\n",
    "    mse_values.append(mse)\n",
    "    print(f\"kappa = {kappa:.3f}, avg MSE = {mse:.3f}\")\n",
    "\n",
    "# plot the MSE vs kappa curve\n",
    "plt.plot(kappa_values, mse_values, '-o')\n",
    "plt.xlabel('kappa')\n",
    "plt.ylabel('MSE')\n",
    "plt.title('MSE vs kappa')\n",
    "plt.show()"
   ]
  },
  {
   "cell_type": "code",
   "execution_count": 9,
   "metadata": {},
   "outputs": [
    {
     "name": "stdout",
     "output_type": "stream",
     "text": [
      "Minimum MSE: 1.932, Kappa value: 2\n"
     ]
    }
   ],
   "source": [
    "# find the index of the minimum MSE value\n",
    "min_index = np.argmin(mse_values)\n",
    "\n",
    "# print the minimum MSE value and the corresponding kappa value\n",
    "print(f\"Minimum MSE: {mse_values[min_index]:.3f}, Kappa value: {kappa_values[min_index]}\")\n"
   ]
  },
  {
   "cell_type": "code",
   "execution_count": null,
   "metadata": {},
   "outputs": [],
   "source": []
  },
  {
   "cell_type": "code",
   "execution_count": null,
   "metadata": {},
   "outputs": [],
   "source": []
  },
  {
   "cell_type": "code",
   "execution_count": null,
   "metadata": {},
   "outputs": [],
   "source": []
  },
  {
   "cell_type": "code",
   "execution_count": null,
   "metadata": {},
   "outputs": [],
   "source": []
  },
  {
   "cell_type": "code",
   "execution_count": null,
   "metadata": {},
   "outputs": [],
   "source": []
  },
  {
   "cell_type": "code",
   "execution_count": null,
   "metadata": {},
   "outputs": [],
   "source": []
  },
  {
   "cell_type": "code",
   "execution_count": null,
   "metadata": {},
   "outputs": [],
   "source": []
  }
 ],
 "metadata": {
  "kernelspec": {
   "display_name": "Python 3",
   "language": "python",
   "name": "python3"
  },
  "language_info": {
   "codemirror_mode": {
    "name": "ipython",
    "version": 3
   },
   "file_extension": ".py",
   "mimetype": "text/x-python",
   "name": "python",
   "nbconvert_exporter": "python",
   "pygments_lexer": "ipython3",
   "version": "3.8.10"
  }
 },
 "nbformat": 4,
 "nbformat_minor": 4
}
