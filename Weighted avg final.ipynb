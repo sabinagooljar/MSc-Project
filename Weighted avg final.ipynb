{
 "cells": [
  {
   "cell_type": "code",
   "execution_count": 1,
   "id": "18c0b186",
   "metadata": {},
   "outputs": [],
   "source": [
    "import pandas as pd\n",
    "import numpy as np\n",
    "import warnings\n",
    "from sklearn.model_selection import train_test_split\n",
    "from sklearn.model_selection import KFold\n",
    "from sklearn.metrics import mean_squared_error\n",
    "from sklearn.linear_model import LinearRegression\n",
    "from sklearn.ensemble import RandomForestRegressor\n",
    "from sklearn.neighbors import KNeighborsRegressor\n",
    "from sklearn.tree import DecisionTreeRegressor\n",
    "from sklearn.cluster import KMeans\n",
    "import matplotlib.pyplot as plt\n",
    "from sklearn.model_selection import KFold, cross_val_score, cross_val_predict\n",
    "random_state=0"
   ]
  },
  {
   "cell_type": "code",
   "execution_count": 2,
   "id": "b842869a",
   "metadata": {},
   "outputs": [],
   "source": [
    "data= pd.read_csv('auto-mpg.csv')"
   ]
  },
  {
   "cell_type": "code",
   "execution_count": 3,
   "id": "d2bb626d",
   "metadata": {},
   "outputs": [
    {
     "data": {
      "text/html": [
       "<div>\n",
       "<style scoped>\n",
       "    .dataframe tbody tr th:only-of-type {\n",
       "        vertical-align: middle;\n",
       "    }\n",
       "\n",
       "    .dataframe tbody tr th {\n",
       "        vertical-align: top;\n",
       "    }\n",
       "\n",
       "    .dataframe thead th {\n",
       "        text-align: right;\n",
       "    }\n",
       "</style>\n",
       "<table border=\"1\" class=\"dataframe\">\n",
       "  <thead>\n",
       "    <tr style=\"text-align: right;\">\n",
       "      <th></th>\n",
       "      <th>mpg</th>\n",
       "      <th>cylinders</th>\n",
       "      <th>displacement</th>\n",
       "      <th>hp</th>\n",
       "      <th>weight</th>\n",
       "      <th>acc</th>\n",
       "      <th>year</th>\n",
       "      <th>carname</th>\n",
       "    </tr>\n",
       "  </thead>\n",
       "  <tbody>\n",
       "    <tr>\n",
       "      <th>0</th>\n",
       "      <td>18.0</td>\n",
       "      <td>8</td>\n",
       "      <td>307.0</td>\n",
       "      <td>130</td>\n",
       "      <td>3504</td>\n",
       "      <td>12.0</td>\n",
       "      <td>70</td>\n",
       "      <td>1\\t\"chevrolet chevelle malibu\"</td>\n",
       "    </tr>\n",
       "    <tr>\n",
       "      <th>1</th>\n",
       "      <td>15.0</td>\n",
       "      <td>8</td>\n",
       "      <td>350.0</td>\n",
       "      <td>165</td>\n",
       "      <td>3693</td>\n",
       "      <td>11.5</td>\n",
       "      <td>70</td>\n",
       "      <td>1\\t\"buick skylark 320\"</td>\n",
       "    </tr>\n",
       "    <tr>\n",
       "      <th>2</th>\n",
       "      <td>18.0</td>\n",
       "      <td>8</td>\n",
       "      <td>318.0</td>\n",
       "      <td>150</td>\n",
       "      <td>3436</td>\n",
       "      <td>11.0</td>\n",
       "      <td>70</td>\n",
       "      <td>1\\t\"plymouth satellite\"</td>\n",
       "    </tr>\n",
       "    <tr>\n",
       "      <th>3</th>\n",
       "      <td>16.0</td>\n",
       "      <td>8</td>\n",
       "      <td>304.0</td>\n",
       "      <td>150</td>\n",
       "      <td>3433</td>\n",
       "      <td>12.0</td>\n",
       "      <td>70</td>\n",
       "      <td>1\\t\"amc rebel sst\"</td>\n",
       "    </tr>\n",
       "    <tr>\n",
       "      <th>4</th>\n",
       "      <td>17.0</td>\n",
       "      <td>8</td>\n",
       "      <td>302.0</td>\n",
       "      <td>140</td>\n",
       "      <td>3449</td>\n",
       "      <td>10.5</td>\n",
       "      <td>70</td>\n",
       "      <td>1\\t\"ford torino\"</td>\n",
       "    </tr>\n",
       "  </tbody>\n",
       "</table>\n",
       "</div>"
      ],
      "text/plain": [
       "    mpg  cylinders  displacement   hp  weight   acc  year  \\\n",
       "0  18.0          8         307.0  130    3504  12.0    70   \n",
       "1  15.0          8         350.0  165    3693  11.5    70   \n",
       "2  18.0          8         318.0  150    3436  11.0    70   \n",
       "3  16.0          8         304.0  150    3433  12.0    70   \n",
       "4  17.0          8         302.0  140    3449  10.5    70   \n",
       "\n",
       "                          carname  \n",
       "0  1\\t\"chevrolet chevelle malibu\"  \n",
       "1          1\\t\"buick skylark 320\"  \n",
       "2         1\\t\"plymouth satellite\"  \n",
       "3              1\\t\"amc rebel sst\"  \n",
       "4                1\\t\"ford torino\"  "
      ]
     },
     "execution_count": 3,
     "metadata": {},
     "output_type": "execute_result"
    }
   ],
   "source": [
    "data.head()"
   ]
  },
  {
   "cell_type": "code",
   "execution_count": 4,
   "id": "f33faddb",
   "metadata": {},
   "outputs": [],
   "source": [
    "# convert a feature to categorical\n",
    "data['carname'] = data['carname'].astype('category')\n",
    "data[\"carname\"] = data[\"carname\"].cat.codes"
   ]
  },
  {
   "cell_type": "code",
   "execution_count": 5,
   "id": "0eb38f2e",
   "metadata": {},
   "outputs": [],
   "source": [
    "# separate the features and the target variable\n",
    "X = data.iloc[:, 1:] \n",
    "y = data.iloc[:, 0] \n",
    "\n",
    "# calculate the correlation matrix\n",
    "corr_matrix = X.corrwith(y)\n",
    "\n",
    "# sort the features by correlation with the target variable\n",
    "sorted_features = corr_matrix.abs().sort_values(ascending=False)\n",
    "\n",
    "# select the top k features\n",
    "k = 5\n",
    "selected_features = sorted_features[:k].index.tolist()\n",
    "\n",
    "# create a new dataframe with the selected features and the target variable\n",
    "df = data[[y.name] + selected_features]\n",
    "\n",
    "# separate the selected features and the target variable\n",
    "X = df.iloc[:, 1:] \n",
    "y = df.iloc[:, 0] \n"
   ]
  },
  {
   "cell_type": "code",
   "execution_count": 6,
   "id": "581b5fd6",
   "metadata": {},
   "outputs": [
    {
     "name": "stdout",
     "output_type": "stream",
     "text": [
      "-8.420076206021637\n",
      "-7.556425249999998\n"
     ]
    }
   ],
   "source": [
    "X_train, X_test, y_train, y_test = train_test_split(X,y, test_size= 0.20,random_state=0)\n",
    "ranf = RandomForestRegressor(random_state=0)\n",
    "rf= ranf.fit(X_train,y_train)\n",
    "scores_rf= cross_val_score(rf, X_train, y_train, scoring='neg_mean_squared_error', cv=10)\n",
    "scores_rf\n",
    "print(np.mean(scores_rf))\n",
    "\n",
    "y_pred_rf = cross_val_predict(ranf, X_test,y_test)\n",
    "scores_test_rf= cross_val_score(ranf, X_test, y_test,scoring='neg_mean_squared_error',cv=10)\n",
    "print(np.mean(scores_test_rf))"
   ]
  },
  {
   "cell_type": "code",
   "execution_count": 7,
   "id": "ed61ba26",
   "metadata": {},
   "outputs": [],
   "source": [
    "def impute_missing_values(X_train, X_test, y_train, kappa=6):\n",
    "    y_train_np = y_train.to_numpy()\n",
    "    mean_values = X_train.apply(lambda col: y_train.groupby(X_train[col.name]).mean())\n",
    "\n",
    "    unique_values = {col: X_train[col].unique() for col in X_train.columns}\n",
    "    imputed_values_train = {}\n",
    "    imputed_values_test = {}\n",
    "\n",
    "    for col in X_train.columns:\n",
    "        imputed_values_train[col] = {val: mean_values[col][val] for val in unique_values[col]}\n",
    "        imputed_values_test[col] = {val: mean_values[col][val] for val in unique_values[col] if val in X_test[col].unique()}\n",
    "\n",
    "        extra_values = set(X_test[col].unique()) - set(unique_values[col])\n",
    "        if extra_values:\n",
    "            \n",
    "            # print(f\"Warning: There are values in column '{col}' of X_test that are not present in X_train.\")\n",
    "\n",
    "            X_train_imputed = X_train.copy()\n",
    "            X_test_imputed = X_test.copy()\n",
    "\n",
    "    for col in X_train.columns:\n",
    "        X_train_imputed[col] = X_train[col].map(imputed_values_train[col])\n",
    "\n",
    "    for col in X_test.columns:\n",
    "        X_test_imputed[col] = X_test[col].apply(lambda x: imputed_values_test[col].get(x, np.nan))\n",
    "\n",
    "    for col in X_test_imputed.columns:\n",
    "        missing_indices = X_test_imputed[X_test_imputed[col].isna()].index\n",
    "\n",
    "        if len(missing_indices) > 0:\n",
    "            d = np.linalg.norm(X_test.loc[missing_indices].values[:, np.newaxis] - X_train.values, axis=2)\n",
    "\n",
    "            for i, idx in enumerate(missing_indices):\n",
    "                l = 0\n",
    "                v = 0\n",
    "                for j in range(len(y_train)):\n",
    "                    l += y_train_np[j] / ((1 + d[i, j]) ** kappa)\n",
    "                    v += 1 / ((1 + d[i, j]) ** kappa)\n",
    "                imputed_value = l / v\n",
    "                X_test_imputed.at[idx, col] = imputed_value\n",
    "\n",
    "    return X_train_imputed, X_test_imputed\n"
   ]
  },
  {
   "cell_type": "code",
   "execution_count": null,
   "id": "603646c8",
   "metadata": {},
   "outputs": [],
   "source": []
  },
  {
   "cell_type": "code",
   "execution_count": 8,
   "id": "3f5abc31",
   "metadata": {},
   "outputs": [],
   "source": [
    "def prop_reg(X_test,X_train,y_train,y_test,kappa):\n",
    "    d = np.zeros((len(X_test),len(X_train)))\n",
    "    for i in range(len(X_test)):\n",
    "        for j in range(len(X_train)):\n",
    "            d[i,j] = np.linalg.norm(X_test[i]-X_train[j])\n",
    "    c=np.zeros(len(y_test))\n",
    "    for i in range(len(y_test)):\n",
    "        l=0\n",
    "        v=0\n",
    "        for j in range(len(y_train)):\n",
    "            \n",
    "            l+=y_train[j]/((1+d[i,j])**kappa)\n",
    "            v+=1/((1+d[i,j])**kappa)\n",
    "        \n",
    "        c[i]=l/v\n",
    "    return(c)"
   ]
  },
  {
   "cell_type": "code",
   "execution_count": 9,
   "id": "3df662a5",
   "metadata": {},
   "outputs": [
    {
     "name": "stdout",
     "output_type": "stream",
     "text": [
      "kappa = 1, avg MSE = 34.778\n",
      "kappa = 2, avg MSE = 19.147\n",
      "kappa = 3, avg MSE = 16.013\n",
      "kappa = 4, avg MSE = 15.911\n",
      "kappa = 5, avg MSE = 16.439\n",
      "kappa = 6, avg MSE = 16.903\n",
      "kappa = 7, avg MSE = 17.353\n",
      "kappa = 8, avg MSE = 17.774\n",
      "kappa = 9, avg MSE = 18.164\n"
     ]
    },
    {
     "data": {
      "image/png": "[encoded data removed]",
      "text/plain": [
       "<Figure size 640x480 with 1 Axes>"
      ]
     },
     "metadata": {},
     "output_type": "display_data"
    }
   ],
   "source": [
    "\n",
    "\n",
    "def impute_and_predict(X, y, kappa):\n",
    "    kf = KFold(n_splits=10)\n",
    "    mse_values = []\n",
    "    for train_index, test_index in kf.split(X):\n",
    "        X_train, X_test = X.iloc[train_index], X.iloc[test_index]\n",
    "        y_train, y_test = y.iloc[train_index], y.iloc[test_index]\n",
    "        \n",
    "        X_train_imputed, X_test_imputed = impute_missing_values(X_train, X_test, y_train, kappa)\n",
    "        \n",
    "        y_pred = prop_reg(X_test_imputed.values, X_train_imputed.values, y_train.values, y_test.values, kappa)\n",
    "        \n",
    "        mse = mean_squared_error(y_test, y_pred)\n",
    "        mse_values.append(mse)\n",
    "    \n",
    "    avg_mse = np.mean(mse_values)\n",
    "    \n",
    "    return avg_mse\n",
    "\n",
    "kappa_values = np.array([1, 2, 3, 4, 5, 6, 7, 8, 9])\n",
    "mse_values = []\n",
    "\n",
    "for kappa in kappa_values:\n",
    "    mse = impute_and_predict(X, y, kappa)\n",
    "    mse_values.append(mse)\n",
    "    print(f\"kappa = {kappa}, avg MSE = {mse:.3f}\")\n",
    "\n",
    "plt.plot(kappa_values, mse_values, '-o')\n",
    "plt.xlabel('kappa')\n",
    "plt.ylabel('MSE')\n",
    "plt.title('MSE vs kappa')\n",
    "plt.show()\n"
   ]
  },
  {
   "cell_type": "code",
   "execution_count": 10,
   "id": "71ec683c",
   "metadata": {},
   "outputs": [
    {
     "name": "stdout",
     "output_type": "stream",
     "text": [
      "Minimum MSE: 15.911, Kappa value: 4\n"
     ]
    }
   ],
   "source": [
    "# find the index of the minimum MSE value\n",
    "min_index = np.argmin(mse_values)\n",
    "\n",
    "# print the minimum MSE value and the corresponding kappa value\n",
    "print(f\"Minimum MSE: {mse_values[min_index]:.3f}, Kappa value: {kappa_values[min_index]}\")\n"
   ]
  },
  {
   "cell_type": "code",
   "execution_count": null,
   "id": "8d37f3b5",
   "metadata": {},
   "outputs": [],
   "source": []
  },
  {
   "cell_type": "code",
   "execution_count": null,
   "id": "caa4ce4f",
   "metadata": {},
   "outputs": [],
   "source": []
  },
  {
   "cell_type": "code",
   "execution_count": null,
   "id": "9b23edcf",
   "metadata": {},
   "outputs": [],
   "source": []
  }
 ],
 "metadata": {
  "kernelspec": {
   "display_name": "Python 3 (ipykernel)",
   "language": "python",
   "name": "python3"
  },
  "language_info": {
   "codemirror_mode": {
    "name": "ipython",
    "version": 3
   },
   "file_extension": ".py",
   "mimetype": "text/x-python",
   "name": "python",
   "nbconvert_exporter": "python",
   "pygments_lexer": "ipython3",
   "version": "3.9.13"
  }
 },
 "nbformat": 4,
 "nbformat_minor": 5
}
