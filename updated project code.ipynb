{
 "cells": [
  {
   "cell_type": "code",
   "execution_count": 1,
   "metadata": {},
   "outputs": [],
   "source": [
    "import pandas as pd\n",
    "import numpy as np\n",
    "from sklearn.model_selection import train_test_split\n",
    "from sklearn.model_selection import KFold\n",
    "from sklearn.metrics import mean_squared_error\n",
    "import matplotlib.pyplot as plt\n"
   ]
  },
  {
   "cell_type": "code",
   "execution_count": 2,
   "metadata": {},
   "outputs": [],
   "source": [
    "df= pd.read_csv('auto.csv')"
   ]
  },
  {
   "cell_type": "code",
   "execution_count": 3,
   "metadata": {},
   "outputs": [
    {
     "data": {
      "text/html": [
       "<div>\n",
       "<style scoped>\n",
       "    .dataframe tbody tr th:only-of-type {\n",
       "        vertical-align: middle;\n",
       "    }\n",
       "\n",
       "    .dataframe tbody tr th {\n",
       "        vertical-align: top;\n",
       "    }\n",
       "\n",
       "    .dataframe thead th {\n",
       "        text-align: right;\n",
       "    }\n",
       "</style>\n",
       "<table border=\"1\" class=\"dataframe\">\n",
       "  <thead>\n",
       "    <tr style=\"text-align: right;\">\n",
       "      <th></th>\n",
       "      <th>mpg</th>\n",
       "      <th>cylinders</th>\n",
       "      <th>acc</th>\n",
       "      <th>year</th>\n",
       "    </tr>\n",
       "  </thead>\n",
       "  <tbody>\n",
       "    <tr>\n",
       "      <th>0</th>\n",
       "      <td>18.0</td>\n",
       "      <td>8</td>\n",
       "      <td>12.0</td>\n",
       "      <td>70</td>\n",
       "    </tr>\n",
       "    <tr>\n",
       "      <th>1</th>\n",
       "      <td>15.0</td>\n",
       "      <td>8</td>\n",
       "      <td>11.5</td>\n",
       "      <td>70</td>\n",
       "    </tr>\n",
       "    <tr>\n",
       "      <th>2</th>\n",
       "      <td>18.0</td>\n",
       "      <td>8</td>\n",
       "      <td>11.0</td>\n",
       "      <td>70</td>\n",
       "    </tr>\n",
       "    <tr>\n",
       "      <th>3</th>\n",
       "      <td>16.0</td>\n",
       "      <td>8</td>\n",
       "      <td>12.0</td>\n",
       "      <td>70</td>\n",
       "    </tr>\n",
       "    <tr>\n",
       "      <th>4</th>\n",
       "      <td>17.0</td>\n",
       "      <td>8</td>\n",
       "      <td>10.5</td>\n",
       "      <td>70</td>\n",
       "    </tr>\n",
       "  </tbody>\n",
       "</table>\n",
       "</div>"
      ],
      "text/plain": [
       "    mpg  cylinders   acc  year\n",
       "0  18.0          8  12.0    70\n",
       "1  15.0          8  11.5    70\n",
       "2  18.0          8  11.0    70\n",
       "3  16.0          8  12.0    70\n",
       "4  17.0          8  10.5    70"
      ]
     },
     "execution_count": 3,
     "metadata": {},
     "output_type": "execute_result"
    }
   ],
   "source": [
    "df.head()"
   ]
  },
  {
   "cell_type": "code",
   "execution_count": 4,
   "metadata": {},
   "outputs": [
    {
     "name": "stdout",
     "output_type": "stream",
     "text": [
      "      mpg  cylinders acc  year\n",
      "0    18.0          8   1    70\n",
      "1    15.0          8   1    70\n",
      "2    18.0          8   1    70\n",
      "3    16.0          8   1    70\n",
      "4    17.0          8   1    70\n",
      "..    ...        ...  ..   ...\n",
      "387  27.0          4   6    82\n",
      "388  44.0          4  10    82\n",
      "389  32.0          4   1    82\n",
      "390  28.0          4   9    82\n",
      "391  31.0          4  10    82\n",
      "\n",
      "[392 rows x 4 columns]\n"
     ]
    }
   ],
   "source": [
    "# create 10 categories with labels 1 to 10\n",
    "df['acc'] = pd.qcut(df['acc'], q=10, labels=range(1, 11))\n",
    "\n",
    "\n",
    "print(df)\n"
   ]
  },
  {
   "cell_type": "code",
   "execution_count": 5,
   "metadata": {},
   "outputs": [
    {
     "name": "stdout",
     "output_type": "stream",
     "text": [
      "[70. 71. 72. 73. 75. 76. 77. 78. 80. 81. 82.]\n"
     ]
    }
   ],
   "source": [
    "df['year'], bins = pd.qcut(df['year'], q=10, labels=range(1, 11), retbins=True)\n",
    "print(bins)\n"
   ]
  },
  {
   "cell_type": "code",
   "execution_count": 6,
   "metadata": {},
   "outputs": [],
   "source": [
    "X= df.drop('mpg',axis=1)\n",
    "y= df['mpg']"
   ]
  },
  {
   "cell_type": "code",
   "execution_count": 7,
   "metadata": {},
   "outputs": [],
   "source": [
    "X_train, X_test, y_train, y_test = train_test_split(X,y, test_size= 0.20,random_state=0)"
   ]
  },
  {
   "cell_type": "code",
   "execution_count": 8,
   "metadata": {},
   "outputs": [],
   "source": [
    "import pandas as pd\n",
    "\n",
    "def add_mean_columns(X_train, X_test, y_train):\n",
    "    \n",
    "    # Iterate over each column in X_train\n",
    "    for column in X_train.columns:\n",
    "\n",
    "        # Skip mean columns\n",
    "        #if column.endswith('_mean'):\n",
    "           # continue\n",
    "\n",
    "        # Find the unique values in the column\n",
    "        unique_values = X_train[column].unique()\n",
    "\n",
    "        # Calculate the mean for each unique value using y_train\n",
    "        means = {}\n",
    "        for value in unique_values:\n",
    "            means[value] = y_train[X_train[column] == value].mean()\n",
    "\n",
    "        # Replace the column in X_train with the corresponding means\n",
    "        X_train[column] = X_train[column].apply(lambda x: means[x])\n",
    "\n",
    "        # Replace the column in X_test with the corresponding means\n",
    "        X_test[column] = X_test[column].apply(lambda x: means[x] if x in means else x)\n",
    "\n",
    "        # Check for unique values in X_test that are not in X_train\n",
    "        missing_values = set(X_test[column].unique()) - set(X_train[column].unique())\n",
    "        if missing_values:\n",
    "            print(f\"Warning: Unique values {missing_values} in {column} of X_test not found in X_train.\")\n",
    "\n",
    "    return X_train, X_test\n"
   ]
  },
  {
   "cell_type": "code",
   "execution_count": 9,
   "metadata": {},
   "outputs": [
    {
     "name": "stderr",
     "output_type": "stream",
     "text": [
      "<ipython-input-8-957e0b8995f4>:21: SettingWithCopyWarning: \n",
      "A value is trying to be set on a copy of a slice from a DataFrame.\n",
      "Try using .loc[row_indexer,col_indexer] = value instead\n",
      "\n",
      "See the caveats in the documentation: https://pandas.pydata.org/pandas-docs/stable/user_guide/indexing.html#returning-a-view-versus-a-copy\n",
      "  X_train[column] = X_train[column].apply(lambda x: means[x])\n",
      "<ipython-input-8-957e0b8995f4>:24: SettingWithCopyWarning: \n",
      "A value is trying to be set on a copy of a slice from a DataFrame.\n",
      "Try using .loc[row_indexer,col_indexer] = value instead\n",
      "\n",
      "See the caveats in the documentation: https://pandas.pydata.org/pandas-docs/stable/user_guide/indexing.html#returning-a-view-versus-a-copy\n",
      "  X_test[column] = X_test[column].apply(lambda x: means[x] if x in means else x)\n"
     ]
    }
   ],
   "source": [
    "X_train_new, X_test_new = add_mean_columns(X_train, X_test, y_train)"
   ]
  },
  {
   "cell_type": "code",
   "execution_count": 10,
   "metadata": {},
   "outputs": [],
   "source": [
    "X_test = X_test_new\n",
    "X_train = X_train_new"
   ]
  },
  {
   "cell_type": "code",
   "execution_count": 11,
   "metadata": {},
   "outputs": [
    {
     "data": {
      "text/plain": [
       "cylinders    0\n",
       "acc          0\n",
       "year         0\n",
       "dtype: int64"
      ]
     },
     "execution_count": 11,
     "metadata": {},
     "output_type": "execute_result"
    }
   ],
   "source": [
    "X_test.isnull().sum()"
   ]
  },
  {
   "cell_type": "code",
   "execution_count": 12,
   "metadata": {},
   "outputs": [
    {
     "data": {
      "text/html": [
       "<div>\n",
       "<style scoped>\n",
       "    .dataframe tbody tr th:only-of-type {\n",
       "        vertical-align: middle;\n",
       "    }\n",
       "\n",
       "    .dataframe tbody tr th {\n",
       "        vertical-align: top;\n",
       "    }\n",
       "\n",
       "    .dataframe thead th {\n",
       "        text-align: right;\n",
       "    }\n",
       "</style>\n",
       "<table border=\"1\" class=\"dataframe\">\n",
       "  <thead>\n",
       "    <tr style=\"text-align: right;\">\n",
       "      <th></th>\n",
       "      <th>cylinders</th>\n",
       "      <th>acc</th>\n",
       "      <th>year</th>\n",
       "    </tr>\n",
       "  </thead>\n",
       "  <tbody>\n",
       "    <tr>\n",
       "      <th>144</th>\n",
       "      <td>29.336709</td>\n",
       "      <td>26.050000</td>\n",
       "      <td>21.581395</td>\n",
       "    </tr>\n",
       "    <tr>\n",
       "      <th>280</th>\n",
       "      <td>29.336709</td>\n",
       "      <td>26.784848</td>\n",
       "      <td>28.627907</td>\n",
       "    </tr>\n",
       "    <tr>\n",
       "      <th>68</th>\n",
       "      <td>15.012658</td>\n",
       "      <td>19.745161</td>\n",
       "      <td>18.900000</td>\n",
       "    </tr>\n",
       "    <tr>\n",
       "      <th>372</th>\n",
       "      <td>29.336709</td>\n",
       "      <td>26.050000</td>\n",
       "      <td>32.346154</td>\n",
       "    </tr>\n",
       "    <tr>\n",
       "      <th>328</th>\n",
       "      <td>29.336709</td>\n",
       "      <td>25.303571</td>\n",
       "      <td>28.627907</td>\n",
       "    </tr>\n",
       "    <tr>\n",
       "      <th>...</th>\n",
       "      <td>...</td>\n",
       "      <td>...</td>\n",
       "      <td>...</td>\n",
       "    </tr>\n",
       "    <tr>\n",
       "      <th>100</th>\n",
       "      <td>19.775362</td>\n",
       "      <td>22.863636</td>\n",
       "      <td>16.757576</td>\n",
       "    </tr>\n",
       "    <tr>\n",
       "      <th>64</th>\n",
       "      <td>15.012658</td>\n",
       "      <td>19.684375</td>\n",
       "      <td>18.900000</td>\n",
       "    </tr>\n",
       "    <tr>\n",
       "      <th>55</th>\n",
       "      <td>29.336709</td>\n",
       "      <td>27.978125</td>\n",
       "      <td>19.372093</td>\n",
       "    </tr>\n",
       "    <tr>\n",
       "      <th>260</th>\n",
       "      <td>15.012658</td>\n",
       "      <td>19.684375</td>\n",
       "      <td>23.562069</td>\n",
       "    </tr>\n",
       "    <tr>\n",
       "      <th>214</th>\n",
       "      <td>29.336709</td>\n",
       "      <td>25.303571</td>\n",
       "      <td>23.659091</td>\n",
       "    </tr>\n",
       "  </tbody>\n",
       "</table>\n",
       "<p>79 rows × 3 columns</p>\n",
       "</div>"
      ],
      "text/plain": [
       "     cylinders        acc       year\n",
       "144  29.336709  26.050000  21.581395\n",
       "280  29.336709  26.784848  28.627907\n",
       "68   15.012658  19.745161  18.900000\n",
       "372  29.336709  26.050000  32.346154\n",
       "328  29.336709  25.303571  28.627907\n",
       "..         ...        ...        ...\n",
       "100  19.775362  22.863636  16.757576\n",
       "64   15.012658  19.684375  18.900000\n",
       "55   29.336709  27.978125  19.372093\n",
       "260  15.012658  19.684375  23.562069\n",
       "214  29.336709  25.303571  23.659091\n",
       "\n",
       "[79 rows x 3 columns]"
      ]
     },
     "execution_count": 12,
     "metadata": {},
     "output_type": "execute_result"
    }
   ],
   "source": [
    "X_test"
   ]
  },
  {
   "cell_type": "code",
   "execution_count": 13,
   "metadata": {},
   "outputs": [],
   "source": [
    "#X_test= X_test.to_numpy()\n",
    "#X_train= X_train.to_numpy()\n",
    "#y_test= y_test.to_numpy()\n",
    "#y_train= y_train.to_numpy()"
   ]
  },
  {
   "cell_type": "code",
   "execution_count": 14,
   "metadata": {},
   "outputs": [],
   "source": [
    "def prop_reg(X_test,X_train,y_train,y_test,kappa):\n",
    "    d = np.zeros((len(X_test),len(X_train)))\n",
    "    for i in range(len(X_test)):\n",
    "        for j in range(len(X_train)):\n",
    "            d[i,j] = np.linalg.norm(X_test[i]-X_train[j])\n",
    "    c=np.zeros(len(y_test))\n",
    "    for i in range(len(y_test)):\n",
    "        l=0\n",
    "        v=0\n",
    "        for j in range(len(y_train)):\n",
    "            \n",
    "            l+=y_train[j]/((1+d[i,j])**kappa)\n",
    "            v+=1/((1+d[i,j])**kappa)\n",
    "        \n",
    "        c[i]=l/v\n",
    "    return(c)"
   ]
  },
  {
   "cell_type": "code",
   "execution_count": 15,
   "metadata": {},
   "outputs": [
    {
     "name": "stdout",
     "output_type": "stream",
     "text": [
      "kappa = 1.000, avg MSE = 47.248\n",
      "kappa = 2.000, avg MSE = 31.511\n",
      "kappa = 3.000, avg MSE = 23.236\n",
      "kappa = 4.000, avg MSE = 20.805\n",
      "kappa = 5.000, avg MSE = 20.983\n",
      "kappa = 6.000, avg MSE = 21.522\n",
      "kappa = 7.000, avg MSE = 21.851\n",
      "kappa = 8.000, avg MSE = 22.015\n",
      "kappa = 9.000, avg MSE = 22.102\n"
     ]
    },
    {
     "data": {
      "image/png": "[encoded data removed]",
      "text/plain": [
       "<Figure size 432x288 with 1 Axes>"
      ]
     },
     "metadata": {
      "needs_background": "light"
     },
     "output_type": "display_data"
    }
   ],
   "source": [
    "kf = KFold(n_splits=10)\n",
    "kappa_values = np.array([1,2,3,4,5,6,7,8,9])\n",
    "mse_values = []\n",
    "\n",
    "for kappa in kappa_values:\n",
    "    mse = 0.0\n",
    "    for train_index, test_index in kf.split(X):\n",
    "        X_train, X_test = X.values[train_index], X.values[test_index]\n",
    "        y_train, y_test = y.values[train_index], y.values[test_index]\n",
    "        y_pred = prop_reg(X_test, X_train, y_train, y_test, kappa)\n",
    "        mse += mean_squared_error(y_test, y_pred)\n",
    "    mse /= kf.get_n_splits(X)\n",
    "    mse_values.append(mse)\n",
    "    print(f\"kappa = {kappa:.3f}, avg MSE = {mse:.3f}\")\n",
    "\n",
    "# plot the MSE vs kappa curve\n",
    "plt.plot(kappa_values, mse_values, '-o')\n",
    "plt.xlabel('kappa')\n",
    "plt.ylabel('MSE')\n",
    "plt.title('MSE vs kappa')\n",
    "plt.show()\n"
   ]
  },
  {
   "cell_type": "code",
   "execution_count": null,
   "metadata": {},
   "outputs": [],
   "source": []
  },
  {
   "cell_type": "code",
   "execution_count": null,
   "metadata": {},
   "outputs": [],
   "source": []
  },
  {
   "cell_type": "code",
   "execution_count": null,
   "metadata": {},
   "outputs": [],
   "source": []
  },
  {
   "cell_type": "code",
   "execution_count": null,
   "metadata": {},
   "outputs": [],
   "source": []
  },
  {
   "cell_type": "code",
   "execution_count": null,
   "metadata": {},
   "outputs": [],
   "source": []
  },
  {
   "cell_type": "code",
   "execution_count": null,
   "metadata": {},
   "outputs": [],
   "source": []
  }
 ],
 "metadata": {
  "kernelspec": {
   "display_name": "Python 3",
   "language": "python",
   "name": "python3"
  },
  "language_info": {
   "codemirror_mode": {
    "name": "ipython",
    "version": 3
   },
   "file_extension": ".py",
   "mimetype": "text/x-python",
   "name": "python",
   "nbconvert_exporter": "python",
   "pygments_lexer": "ipython3",
   "version": "3.8.5"
  }
 },
 "nbformat": 4,
 "nbformat_minor": 4
}
