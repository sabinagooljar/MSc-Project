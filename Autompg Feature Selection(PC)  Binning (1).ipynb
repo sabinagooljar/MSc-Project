{
 "cells": [
  {
   "cell_type": "code",
   "execution_count": 1,
   "metadata": {},
   "outputs": [],
   "source": [
    "import pandas as pd\n",
    "import numpy as np\n",
    "from sklearn.model_selection import train_test_split\n",
    "from sklearn.model_selection import KFold\n",
    "from sklearn.metrics import mean_squared_error\n",
    "from sklearn.linear_model import LinearRegression\n",
    "from sklearn.ensemble import RandomForestRegressor\n",
    "from sklearn.neighbors import KNeighborsRegressor\n",
    "from sklearn.tree import DecisionTreeRegressor\n",
    "from sklearn.cluster import KMeans\n",
    "import matplotlib.pyplot as plt\n",
    "from sklearn.model_selection import KFold, cross_val_score, cross_val_predict\n",
    "random_state=0"
   ]
  },
  {
   "cell_type": "code",
   "execution_count": 2,
   "metadata": {},
   "outputs": [],
   "source": [
    "data= pd.read_csv('auto-mpg.csv')\n"
   ]
  },
  {
   "cell_type": "code",
   "execution_count": 3,
   "metadata": {},
   "outputs": [
    {
     "data": {
      "text/plain": [
       "mpg             float64\n",
       "cylinders         int64\n",
       "displacement    float64\n",
       "hp                int64\n",
       "weight            int64\n",
       "acc             float64\n",
       "year              int64\n",
       "carname          object\n",
       "dtype: object"
      ]
     },
     "execution_count": 3,
     "metadata": {},
     "output_type": "execute_result"
    }
   ],
   "source": [
    "data.dtypes"
   ]
  },
  {
   "cell_type": "code",
   "execution_count": 4,
   "metadata": {},
   "outputs": [],
   "source": [
    "# convert a feature to categorical\n",
    "data['carname'] = data['carname'].astype('category')\n",
    "data[\"carname\"] = data[\"carname\"].cat.codes"
   ]
  },
  {
   "cell_type": "code",
   "execution_count": 5,
   "metadata": {},
   "outputs": [
    {
     "data": {
      "text/html": [
       "<div>\n",
       "<style scoped>\n",
       "    .dataframe tbody tr th:only-of-type {\n",
       "        vertical-align: middle;\n",
       "    }\n",
       "\n",
       "    .dataframe tbody tr th {\n",
       "        vertical-align: top;\n",
       "    }\n",
       "\n",
       "    .dataframe thead th {\n",
       "        text-align: right;\n",
       "    }\n",
       "</style>\n",
       "<table border=\"1\" class=\"dataframe\">\n",
       "  <thead>\n",
       "    <tr style=\"text-align: right;\">\n",
       "      <th></th>\n",
       "      <th>mpg</th>\n",
       "      <th>cylinders</th>\n",
       "      <th>displacement</th>\n",
       "      <th>hp</th>\n",
       "      <th>weight</th>\n",
       "      <th>acc</th>\n",
       "      <th>year</th>\n",
       "      <th>carname</th>\n",
       "    </tr>\n",
       "  </thead>\n",
       "  <tbody>\n",
       "    <tr>\n",
       "      <th>0</th>\n",
       "      <td>18.0</td>\n",
       "      <td>8</td>\n",
       "      <td>307.0</td>\n",
       "      <td>130</td>\n",
       "      <td>3504</td>\n",
       "      <td>12.0</td>\n",
       "      <td>70</td>\n",
       "      <td>41</td>\n",
       "    </tr>\n",
       "    <tr>\n",
       "      <th>1</th>\n",
       "      <td>15.0</td>\n",
       "      <td>8</td>\n",
       "      <td>350.0</td>\n",
       "      <td>165</td>\n",
       "      <td>3693</td>\n",
       "      <td>11.5</td>\n",
       "      <td>70</td>\n",
       "      <td>26</td>\n",
       "    </tr>\n",
       "    <tr>\n",
       "      <th>2</th>\n",
       "      <td>18.0</td>\n",
       "      <td>8</td>\n",
       "      <td>318.0</td>\n",
       "      <td>150</td>\n",
       "      <td>3436</td>\n",
       "      <td>11.0</td>\n",
       "      <td>70</td>\n",
       "      <td>166</td>\n",
       "    </tr>\n",
       "    <tr>\n",
       "      <th>3</th>\n",
       "      <td>16.0</td>\n",
       "      <td>8</td>\n",
       "      <td>304.0</td>\n",
       "      <td>150</td>\n",
       "      <td>3433</td>\n",
       "      <td>12.0</td>\n",
       "      <td>70</td>\n",
       "      <td>13</td>\n",
       "    </tr>\n",
       "    <tr>\n",
       "      <th>4</th>\n",
       "      <td>17.0</td>\n",
       "      <td>8</td>\n",
       "      <td>302.0</td>\n",
       "      <td>140</td>\n",
       "      <td>3449</td>\n",
       "      <td>10.5</td>\n",
       "      <td>70</td>\n",
       "      <td>125</td>\n",
       "    </tr>\n",
       "  </tbody>\n",
       "</table>\n",
       "</div>"
      ],
      "text/plain": [
       "    mpg  cylinders  displacement   hp  weight   acc  year  carname\n",
       "0  18.0          8         307.0  130    3504  12.0    70       41\n",
       "1  15.0          8         350.0  165    3693  11.5    70       26\n",
       "2  18.0          8         318.0  150    3436  11.0    70      166\n",
       "3  16.0          8         304.0  150    3433  12.0    70       13\n",
       "4  17.0          8         302.0  140    3449  10.5    70      125"
      ]
     },
     "execution_count": 5,
     "metadata": {},
     "output_type": "execute_result"
    }
   ],
   "source": [
    "data.head()"
   ]
  },
  {
   "cell_type": "markdown",
   "metadata": {},
   "source": [
    "# Feature Selection"
   ]
  },
  {
   "cell_type": "code",
   "execution_count": 6,
   "metadata": {},
   "outputs": [],
   "source": [
    "\n",
    "# separate the features and the target variable\n",
    "X = data.iloc[:, 1:] # select all columns except the first one as features\n",
    "y = data.iloc[:, 0] # select the first column as the target variable\n",
    "\n",
    "# calculate the correlation matrix\n",
    "corr_matrix = X.corrwith(y)\n",
    "\n",
    "# sort the features by correlation with the target variable\n",
    "sorted_features = corr_matrix.abs().sort_values(ascending=False)\n",
    "\n",
    "# select the top k features\n",
    "k = 5 \n",
    "selected_features = sorted_features[:k].index.tolist()\n",
    "\n",
    "# create a new dataframe with the selected features and the target variable\n",
    "df = data[[y.name] + selected_features]\n",
    "\n",
    "# separate the selected features and the target variable\n",
    "X = df.iloc[:, 1:] # select all columns except the first one as features\n",
    "y = df.iloc[:, 0] # select the first column as the target variable\n"
   ]
  },
  {
   "cell_type": "code",
   "execution_count": 7,
   "metadata": {},
   "outputs": [
    {
     "data": {
      "text/html": [
       "<div>\n",
       "<style scoped>\n",
       "    .dataframe tbody tr th:only-of-type {\n",
       "        vertical-align: middle;\n",
       "    }\n",
       "\n",
       "    .dataframe tbody tr th {\n",
       "        vertical-align: top;\n",
       "    }\n",
       "\n",
       "    .dataframe thead th {\n",
       "        text-align: right;\n",
       "    }\n",
       "</style>\n",
       "<table border=\"1\" class=\"dataframe\">\n",
       "  <thead>\n",
       "    <tr style=\"text-align: right;\">\n",
       "      <th></th>\n",
       "      <th>mpg</th>\n",
       "      <th>weight</th>\n",
       "      <th>displacement</th>\n",
       "      <th>hp</th>\n",
       "      <th>cylinders</th>\n",
       "      <th>year</th>\n",
       "    </tr>\n",
       "  </thead>\n",
       "  <tbody>\n",
       "    <tr>\n",
       "      <th>0</th>\n",
       "      <td>18.0</td>\n",
       "      <td>3504</td>\n",
       "      <td>307.0</td>\n",
       "      <td>130</td>\n",
       "      <td>8</td>\n",
       "      <td>70</td>\n",
       "    </tr>\n",
       "    <tr>\n",
       "      <th>1</th>\n",
       "      <td>15.0</td>\n",
       "      <td>3693</td>\n",
       "      <td>350.0</td>\n",
       "      <td>165</td>\n",
       "      <td>8</td>\n",
       "      <td>70</td>\n",
       "    </tr>\n",
       "    <tr>\n",
       "      <th>2</th>\n",
       "      <td>18.0</td>\n",
       "      <td>3436</td>\n",
       "      <td>318.0</td>\n",
       "      <td>150</td>\n",
       "      <td>8</td>\n",
       "      <td>70</td>\n",
       "    </tr>\n",
       "    <tr>\n",
       "      <th>3</th>\n",
       "      <td>16.0</td>\n",
       "      <td>3433</td>\n",
       "      <td>304.0</td>\n",
       "      <td>150</td>\n",
       "      <td>8</td>\n",
       "      <td>70</td>\n",
       "    </tr>\n",
       "    <tr>\n",
       "      <th>4</th>\n",
       "      <td>17.0</td>\n",
       "      <td>3449</td>\n",
       "      <td>302.0</td>\n",
       "      <td>140</td>\n",
       "      <td>8</td>\n",
       "      <td>70</td>\n",
       "    </tr>\n",
       "    <tr>\n",
       "      <th>...</th>\n",
       "      <td>...</td>\n",
       "      <td>...</td>\n",
       "      <td>...</td>\n",
       "      <td>...</td>\n",
       "      <td>...</td>\n",
       "      <td>...</td>\n",
       "    </tr>\n",
       "    <tr>\n",
       "      <th>387</th>\n",
       "      <td>27.0</td>\n",
       "      <td>2790</td>\n",
       "      <td>140.0</td>\n",
       "      <td>86</td>\n",
       "      <td>4</td>\n",
       "      <td>82</td>\n",
       "    </tr>\n",
       "    <tr>\n",
       "      <th>388</th>\n",
       "      <td>44.0</td>\n",
       "      <td>2130</td>\n",
       "      <td>97.0</td>\n",
       "      <td>52</td>\n",
       "      <td>4</td>\n",
       "      <td>82</td>\n",
       "    </tr>\n",
       "    <tr>\n",
       "      <th>389</th>\n",
       "      <td>32.0</td>\n",
       "      <td>2295</td>\n",
       "      <td>135.0</td>\n",
       "      <td>84</td>\n",
       "      <td>4</td>\n",
       "      <td>82</td>\n",
       "    </tr>\n",
       "    <tr>\n",
       "      <th>390</th>\n",
       "      <td>28.0</td>\n",
       "      <td>2625</td>\n",
       "      <td>120.0</td>\n",
       "      <td>79</td>\n",
       "      <td>4</td>\n",
       "      <td>82</td>\n",
       "    </tr>\n",
       "    <tr>\n",
       "      <th>391</th>\n",
       "      <td>31.0</td>\n",
       "      <td>2720</td>\n",
       "      <td>119.0</td>\n",
       "      <td>82</td>\n",
       "      <td>4</td>\n",
       "      <td>82</td>\n",
       "    </tr>\n",
       "  </tbody>\n",
       "</table>\n",
       "<p>392 rows × 6 columns</p>\n",
       "</div>"
      ],
      "text/plain": [
       "      mpg  weight  displacement   hp  cylinders  year\n",
       "0    18.0    3504         307.0  130          8    70\n",
       "1    15.0    3693         350.0  165          8    70\n",
       "2    18.0    3436         318.0  150          8    70\n",
       "3    16.0    3433         304.0  150          8    70\n",
       "4    17.0    3449         302.0  140          8    70\n",
       "..    ...     ...           ...  ...        ...   ...\n",
       "387  27.0    2790         140.0   86          4    82\n",
       "388  44.0    2130          97.0   52          4    82\n",
       "389  32.0    2295         135.0   84          4    82\n",
       "390  28.0    2625         120.0   79          4    82\n",
       "391  31.0    2720         119.0   82          4    82\n",
       "\n",
       "[392 rows x 6 columns]"
      ]
     },
     "execution_count": 7,
     "metadata": {},
     "output_type": "execute_result"
    }
   ],
   "source": [
    "df"
   ]
  },
  {
   "cell_type": "code",
   "execution_count": 8,
   "metadata": {},
   "outputs": [
    {
     "data": {
      "text/html": [
       "<div>\n",
       "<style scoped>\n",
       "    .dataframe tbody tr th:only-of-type {\n",
       "        vertical-align: middle;\n",
       "    }\n",
       "\n",
       "    .dataframe tbody tr th {\n",
       "        vertical-align: top;\n",
       "    }\n",
       "\n",
       "    .dataframe thead th {\n",
       "        text-align: right;\n",
       "    }\n",
       "</style>\n",
       "<table border=\"1\" class=\"dataframe\">\n",
       "  <thead>\n",
       "    <tr style=\"text-align: right;\">\n",
       "      <th></th>\n",
       "      <th>weight</th>\n",
       "      <th>displacement</th>\n",
       "      <th>hp</th>\n",
       "      <th>cylinders</th>\n",
       "      <th>year</th>\n",
       "    </tr>\n",
       "  </thead>\n",
       "  <tbody>\n",
       "    <tr>\n",
       "      <th>0</th>\n",
       "      <td>3504</td>\n",
       "      <td>307.0</td>\n",
       "      <td>130</td>\n",
       "      <td>8</td>\n",
       "      <td>70</td>\n",
       "    </tr>\n",
       "    <tr>\n",
       "      <th>1</th>\n",
       "      <td>3693</td>\n",
       "      <td>350.0</td>\n",
       "      <td>165</td>\n",
       "      <td>8</td>\n",
       "      <td>70</td>\n",
       "    </tr>\n",
       "    <tr>\n",
       "      <th>2</th>\n",
       "      <td>3436</td>\n",
       "      <td>318.0</td>\n",
       "      <td>150</td>\n",
       "      <td>8</td>\n",
       "      <td>70</td>\n",
       "    </tr>\n",
       "    <tr>\n",
       "      <th>3</th>\n",
       "      <td>3433</td>\n",
       "      <td>304.0</td>\n",
       "      <td>150</td>\n",
       "      <td>8</td>\n",
       "      <td>70</td>\n",
       "    </tr>\n",
       "    <tr>\n",
       "      <th>4</th>\n",
       "      <td>3449</td>\n",
       "      <td>302.0</td>\n",
       "      <td>140</td>\n",
       "      <td>8</td>\n",
       "      <td>70</td>\n",
       "    </tr>\n",
       "    <tr>\n",
       "      <th>...</th>\n",
       "      <td>...</td>\n",
       "      <td>...</td>\n",
       "      <td>...</td>\n",
       "      <td>...</td>\n",
       "      <td>...</td>\n",
       "    </tr>\n",
       "    <tr>\n",
       "      <th>387</th>\n",
       "      <td>2790</td>\n",
       "      <td>140.0</td>\n",
       "      <td>86</td>\n",
       "      <td>4</td>\n",
       "      <td>82</td>\n",
       "    </tr>\n",
       "    <tr>\n",
       "      <th>388</th>\n",
       "      <td>2130</td>\n",
       "      <td>97.0</td>\n",
       "      <td>52</td>\n",
       "      <td>4</td>\n",
       "      <td>82</td>\n",
       "    </tr>\n",
       "    <tr>\n",
       "      <th>389</th>\n",
       "      <td>2295</td>\n",
       "      <td>135.0</td>\n",
       "      <td>84</td>\n",
       "      <td>4</td>\n",
       "      <td>82</td>\n",
       "    </tr>\n",
       "    <tr>\n",
       "      <th>390</th>\n",
       "      <td>2625</td>\n",
       "      <td>120.0</td>\n",
       "      <td>79</td>\n",
       "      <td>4</td>\n",
       "      <td>82</td>\n",
       "    </tr>\n",
       "    <tr>\n",
       "      <th>391</th>\n",
       "      <td>2720</td>\n",
       "      <td>119.0</td>\n",
       "      <td>82</td>\n",
       "      <td>4</td>\n",
       "      <td>82</td>\n",
       "    </tr>\n",
       "  </tbody>\n",
       "</table>\n",
       "<p>392 rows × 5 columns</p>\n",
       "</div>"
      ],
      "text/plain": [
       "     weight  displacement   hp  cylinders  year\n",
       "0      3504         307.0  130          8    70\n",
       "1      3693         350.0  165          8    70\n",
       "2      3436         318.0  150          8    70\n",
       "3      3433         304.0  150          8    70\n",
       "4      3449         302.0  140          8    70\n",
       "..      ...           ...  ...        ...   ...\n",
       "387    2790         140.0   86          4    82\n",
       "388    2130          97.0   52          4    82\n",
       "389    2295         135.0   84          4    82\n",
       "390    2625         120.0   79          4    82\n",
       "391    2720         119.0   82          4    82\n",
       "\n",
       "[392 rows x 5 columns]"
      ]
     },
     "execution_count": 8,
     "metadata": {},
     "output_type": "execute_result"
    }
   ],
   "source": [
    "X"
   ]
  },
  {
   "cell_type": "code",
   "execution_count": 9,
   "metadata": {},
   "outputs": [],
   "source": [
    "X_train, X_test, y_train, y_test = train_test_split(X,y, test_size= 0.20,random_state=0)\n"
   ]
  },
  {
   "cell_type": "markdown",
   "metadata": {},
   "source": [
    "# Random Forest"
   ]
  },
  {
   "cell_type": "code",
   "execution_count": 10,
   "metadata": {},
   "outputs": [
    {
     "name": "stdout",
     "output_type": "stream",
     "text": [
      "-8.420076206021637\n",
      "-7.556425249999998\n"
     ]
    }
   ],
   "source": [
    "ranf = RandomForestRegressor(random_state=0)\n",
    "rf= ranf.fit(X_train,y_train)\n",
    "scores_rf= cross_val_score(rf, X_train, y_train, scoring='neg_mean_squared_error', cv=10)\n",
    "scores_rf\n",
    "print(np.mean(scores_rf))\n",
    "\n",
    "y_pred_rf = cross_val_predict(ranf, X_test,y_test)\n",
    "scores_test_rf= cross_val_score(ranf, X_test, y_test,scoring='neg_mean_squared_error',cv=10)\n",
    "print(np.mean(scores_test_rf))"
   ]
  },
  {
   "cell_type": "markdown",
   "metadata": {},
   "source": [
    "# Decision Tree"
   ]
  },
  {
   "cell_type": "code",
   "execution_count": 11,
   "metadata": {},
   "outputs": [
    {
     "name": "stdout",
     "output_type": "stream",
     "text": [
      "-15.650972782258066\n",
      "-16.07926785714286\n"
     ]
    }
   ],
   "source": [
    "#Decision Tree\n",
    "dectree = DecisionTreeRegressor(random_state = 0)\n",
    "dt= dectree.fit(X_train,y_train)\n",
    "scores_dt= cross_val_score(dt, X_train, y_train, scoring='neg_mean_squared_error', cv=10)\n",
    "print(np.mean(scores_dt))\n",
    "\n",
    "y_pred_dt = cross_val_predict(dectree, X_test,y_test)\n",
    "scores_test_dt= cross_val_score(dectree, X_test, y_test,scoring='neg_mean_squared_error',cv=10)\n",
    "print(np.mean(scores_test_dt))"
   ]
  },
  {
   "cell_type": "markdown",
   "metadata": {},
   "source": [
    "# KNN"
   ]
  },
  {
   "cell_type": "code",
   "execution_count": 12,
   "metadata": {},
   "outputs": [
    {
     "name": "stdout",
     "output_type": "stream",
     "text": [
      "-20.03147\n"
     ]
    }
   ],
   "source": [
    "# Instance and fit\n",
    "knn_model = KNeighborsRegressor(n_neighbors=5).fit(X_train, y_train)\n",
    "y_pred_knn = cross_val_predict(knn_model, X_test,y_test)\n",
    "scores_test_knn= cross_val_score(knn_model, X_test, y_test,scoring='neg_mean_squared_error',cv=10)\n",
    "print(np.mean(scores_test_knn))\n"
   ]
  },
  {
   "cell_type": "markdown",
   "metadata": {},
   "source": [
    "# Proposed Algorithm"
   ]
  },
  {
   "cell_type": "code",
   "execution_count": 13,
   "metadata": {},
   "outputs": [],
   "source": [
    "# create 10 categories with labels 1 to 10\n",
    "X['displacement'] = pd.qcut(X['displacement'], q=10, labels=range(1, 11))\n",
    "\n"
   ]
  },
  {
   "cell_type": "code",
   "execution_count": 14,
   "metadata": {},
   "outputs": [],
   "source": [
    "# create 10 categories with labels 1 to 10\n",
    "X['year'] = pd.qcut(X['year'], q=10, labels=range(1, 11), duplicates='drop')\n"
   ]
  },
  {
   "cell_type": "code",
   "execution_count": 15,
   "metadata": {},
   "outputs": [],
   "source": [
    "X['weight'] = pd.qcut(X['weight'], q=10, labels=range(1, 11), duplicates='drop')\n"
   ]
  },
  {
   "cell_type": "code",
   "execution_count": 16,
   "metadata": {},
   "outputs": [],
   "source": [
    "# create 10 categories with labels 1 to 10\n",
    "X['hp'] = pd.qcut(X['hp'], q=10, labels=range(1, 11),duplicates='drop')"
   ]
  },
  {
   "cell_type": "code",
   "execution_count": 17,
   "metadata": {},
   "outputs": [
    {
     "data": {
      "text/html": [
       "<div>\n",
       "<style scoped>\n",
       "    .dataframe tbody tr th:only-of-type {\n",
       "        vertical-align: middle;\n",
       "    }\n",
       "\n",
       "    .dataframe tbody tr th {\n",
       "        vertical-align: top;\n",
       "    }\n",
       "\n",
       "    .dataframe thead th {\n",
       "        text-align: right;\n",
       "    }\n",
       "</style>\n",
       "<table border=\"1\" class=\"dataframe\">\n",
       "  <thead>\n",
       "    <tr style=\"text-align: right;\">\n",
       "      <th></th>\n",
       "      <th>weight</th>\n",
       "      <th>displacement</th>\n",
       "      <th>hp</th>\n",
       "      <th>cylinders</th>\n",
       "      <th>year</th>\n",
       "    </tr>\n",
       "  </thead>\n",
       "  <tbody>\n",
       "    <tr>\n",
       "      <th>0</th>\n",
       "      <td>8</td>\n",
       "      <td>9</td>\n",
       "      <td>8</td>\n",
       "      <td>8</td>\n",
       "      <td>1</td>\n",
       "    </tr>\n",
       "    <tr>\n",
       "      <th>1</th>\n",
       "      <td>8</td>\n",
       "      <td>9</td>\n",
       "      <td>10</td>\n",
       "      <td>8</td>\n",
       "      <td>1</td>\n",
       "    </tr>\n",
       "    <tr>\n",
       "      <th>2</th>\n",
       "      <td>8</td>\n",
       "      <td>9</td>\n",
       "      <td>9</td>\n",
       "      <td>8</td>\n",
       "      <td>1</td>\n",
       "    </tr>\n",
       "    <tr>\n",
       "      <th>3</th>\n",
       "      <td>8</td>\n",
       "      <td>8</td>\n",
       "      <td>9</td>\n",
       "      <td>8</td>\n",
       "      <td>1</td>\n",
       "    </tr>\n",
       "    <tr>\n",
       "      <th>4</th>\n",
       "      <td>8</td>\n",
       "      <td>8</td>\n",
       "      <td>8</td>\n",
       "      <td>8</td>\n",
       "      <td>1</td>\n",
       "    </tr>\n",
       "    <tr>\n",
       "      <th>...</th>\n",
       "      <td>...</td>\n",
       "      <td>...</td>\n",
       "      <td>...</td>\n",
       "      <td>...</td>\n",
       "      <td>...</td>\n",
       "    </tr>\n",
       "    <tr>\n",
       "      <th>387</th>\n",
       "      <td>5</td>\n",
       "      <td>5</td>\n",
       "      <td>4</td>\n",
       "      <td>4</td>\n",
       "      <td>10</td>\n",
       "    </tr>\n",
       "    <tr>\n",
       "      <th>388</th>\n",
       "      <td>2</td>\n",
       "      <td>2</td>\n",
       "      <td>1</td>\n",
       "      <td>4</td>\n",
       "      <td>10</td>\n",
       "    </tr>\n",
       "    <tr>\n",
       "      <th>389</th>\n",
       "      <td>3</td>\n",
       "      <td>5</td>\n",
       "      <td>4</td>\n",
       "      <td>4</td>\n",
       "      <td>10</td>\n",
       "    </tr>\n",
       "    <tr>\n",
       "      <th>390</th>\n",
       "      <td>5</td>\n",
       "      <td>4</td>\n",
       "      <td>3</td>\n",
       "      <td>4</td>\n",
       "      <td>10</td>\n",
       "    </tr>\n",
       "    <tr>\n",
       "      <th>391</th>\n",
       "      <td>5</td>\n",
       "      <td>4</td>\n",
       "      <td>4</td>\n",
       "      <td>4</td>\n",
       "      <td>10</td>\n",
       "    </tr>\n",
       "  </tbody>\n",
       "</table>\n",
       "<p>392 rows × 5 columns</p>\n",
       "</div>"
      ],
      "text/plain": [
       "    weight displacement  hp  cylinders year\n",
       "0        8            9   8          8    1\n",
       "1        8            9  10          8    1\n",
       "2        8            9   9          8    1\n",
       "3        8            8   9          8    1\n",
       "4        8            8   8          8    1\n",
       "..     ...          ...  ..        ...  ...\n",
       "387      5            5   4          4   10\n",
       "388      2            2   1          4   10\n",
       "389      3            5   4          4   10\n",
       "390      5            4   3          4   10\n",
       "391      5            4   4          4   10\n",
       "\n",
       "[392 rows x 5 columns]"
      ]
     },
     "execution_count": 17,
     "metadata": {},
     "output_type": "execute_result"
    }
   ],
   "source": [
    "X"
   ]
  },
  {
   "cell_type": "code",
   "execution_count": 18,
   "metadata": {},
   "outputs": [],
   "source": [
    "X_train, X_test, y_train, y_test = train_test_split(X,y, test_size= 0.20,random_state=0)\n"
   ]
  },
  {
   "cell_type": "code",
   "execution_count": 19,
   "metadata": {},
   "outputs": [],
   "source": [
    "def add_mean_columns(X_train, X_test, y_train):\n",
    "    \n",
    "    # Iterate over each column in X_train\n",
    "    for column in X_train.columns:\n",
    "\n",
    "        \n",
    "\n",
    "        # Find the unique values in the column\n",
    "        unique_values = X_train[column].unique()\n",
    "\n",
    "        # Calculate the mean for each unique value using y_train\n",
    "        means = {}\n",
    "        for value in unique_values:\n",
    "            means[value] = y_train[X_train[column] == value].mean()\n",
    "\n",
    "        # Replace the column in X_train with the corresponding means\n",
    "        X_train[column] = X_train[column].apply(lambda x: means[x])\n",
    "\n",
    "        # Replace the column in X_test with the corresponding means\n",
    "        X_test[column] = X_test[column].apply(lambda x: means[x] if x in means else x)\n",
    "\n",
    "        # Check for unique values in X_test that are not in X_train\n",
    "        missing_values = set(X_test[column].unique()) - set(X_train[column].unique())\n",
    "        if missing_values:\n",
    "            print(f\"Warning: Unique values {missing_values} in {column} of X_test not found in X_train.\")\n",
    "\n",
    "    return X_train, X_test"
   ]
  },
  {
   "cell_type": "code",
   "execution_count": 20,
   "metadata": {},
   "outputs": [],
   "source": [
    "X_train_new, X_test_new = add_mean_columns(X_train, X_test, y_train)"
   ]
  },
  {
   "cell_type": "code",
   "execution_count": 21,
   "metadata": {},
   "outputs": [],
   "source": [
    "X_test = X_test_new\n",
    "X_train = X_train_new"
   ]
  },
  {
   "cell_type": "code",
   "execution_count": 22,
   "metadata": {},
   "outputs": [
    {
     "data": {
      "text/html": [
       "<div>\n",
       "<style scoped>\n",
       "    .dataframe tbody tr th:only-of-type {\n",
       "        vertical-align: middle;\n",
       "    }\n",
       "\n",
       "    .dataframe tbody tr th {\n",
       "        vertical-align: top;\n",
       "    }\n",
       "\n",
       "    .dataframe thead th {\n",
       "        text-align: right;\n",
       "    }\n",
       "</style>\n",
       "<table border=\"1\" class=\"dataframe\">\n",
       "  <thead>\n",
       "    <tr style=\"text-align: right;\">\n",
       "      <th></th>\n",
       "      <th>weight</th>\n",
       "      <th>displacement</th>\n",
       "      <th>hp</th>\n",
       "      <th>cylinders</th>\n",
       "      <th>year</th>\n",
       "    </tr>\n",
       "  </thead>\n",
       "  <tbody>\n",
       "    <tr>\n",
       "      <th>218</th>\n",
       "      <td>33.122581</td>\n",
       "      <td>32.750000</td>\n",
       "      <td>30.426923</td>\n",
       "      <td>29.336709</td>\n",
       "      <td>23.659091</td>\n",
       "    </tr>\n",
       "    <tr>\n",
       "      <th>254</th>\n",
       "      <td>17.629412</td>\n",
       "      <td>21.086111</td>\n",
       "      <td>21.531707</td>\n",
       "      <td>19.775362</td>\n",
       "      <td>23.562069</td>\n",
       "    </tr>\n",
       "    <tr>\n",
       "      <th>299</th>\n",
       "      <td>28.551613</td>\n",
       "      <td>30.728571</td>\n",
       "      <td>30.426923</td>\n",
       "      <td>29.336709</td>\n",
       "      <td>28.627907</td>\n",
       "    </tr>\n",
       "    <tr>\n",
       "      <th>191</th>\n",
       "      <td>22.693333</td>\n",
       "      <td>21.086111</td>\n",
       "      <td>25.997436</td>\n",
       "      <td>19.775362</td>\n",
       "      <td>21.903226</td>\n",
       "    </tr>\n",
       "    <tr>\n",
       "      <th>56</th>\n",
       "      <td>28.551613</td>\n",
       "      <td>25.355556</td>\n",
       "      <td>21.531707</td>\n",
       "      <td>29.336709</td>\n",
       "      <td>18.900000</td>\n",
       "    </tr>\n",
       "    <tr>\n",
       "      <th>...</th>\n",
       "      <td>...</td>\n",
       "      <td>...</td>\n",
       "      <td>...</td>\n",
       "      <td>...</td>\n",
       "      <td>...</td>\n",
       "    </tr>\n",
       "    <tr>\n",
       "      <th>323</th>\n",
       "      <td>32.841935</td>\n",
       "      <td>32.750000</td>\n",
       "      <td>34.123077</td>\n",
       "      <td>29.336709</td>\n",
       "      <td>28.627907</td>\n",
       "    </tr>\n",
       "    <tr>\n",
       "      <th>192</th>\n",
       "      <td>22.693333</td>\n",
       "      <td>18.503333</td>\n",
       "      <td>25.000000</td>\n",
       "      <td>19.775362</td>\n",
       "      <td>21.903226</td>\n",
       "    </tr>\n",
       "    <tr>\n",
       "      <th>117</th>\n",
       "      <td>28.551613</td>\n",
       "      <td>25.355556</td>\n",
       "      <td>28.446154</td>\n",
       "      <td>29.336709</td>\n",
       "      <td>16.757576</td>\n",
       "    </tr>\n",
       "    <tr>\n",
       "      <th>47</th>\n",
       "      <td>19.406061</td>\n",
       "      <td>18.503333</td>\n",
       "      <td>25.997436</td>\n",
       "      <td>19.775362</td>\n",
       "      <td>19.372093</td>\n",
       "    </tr>\n",
       "    <tr>\n",
       "      <th>172</th>\n",
       "      <td>22.693333</td>\n",
       "      <td>21.086111</td>\n",
       "      <td>21.531707</td>\n",
       "      <td>19.775362</td>\n",
       "      <td>21.581395</td>\n",
       "    </tr>\n",
       "  </tbody>\n",
       "</table>\n",
       "<p>313 rows × 5 columns</p>\n",
       "</div>"
      ],
      "text/plain": [
       "        weight displacement         hp  cylinders       year\n",
       "218  33.122581    32.750000  30.426923  29.336709  23.659091\n",
       "254  17.629412    21.086111  21.531707  19.775362  23.562069\n",
       "299  28.551613    30.728571  30.426923  29.336709  28.627907\n",
       "191  22.693333    21.086111  25.997436  19.775362  21.903226\n",
       "56   28.551613    25.355556  21.531707  29.336709  18.900000\n",
       "..         ...          ...        ...        ...        ...\n",
       "323  32.841935    32.750000  34.123077  29.336709  28.627907\n",
       "192  22.693333    18.503333  25.000000  19.775362  21.903226\n",
       "117  28.551613    25.355556  28.446154  29.336709  16.757576\n",
       "47   19.406061    18.503333  25.997436  19.775362  19.372093\n",
       "172  22.693333    21.086111  21.531707  19.775362  21.581395\n",
       "\n",
       "[313 rows x 5 columns]"
      ]
     },
     "execution_count": 22,
     "metadata": {},
     "output_type": "execute_result"
    }
   ],
   "source": [
    "X_train"
   ]
  },
  {
   "cell_type": "code",
   "execution_count": 23,
   "metadata": {},
   "outputs": [],
   "source": [
    "def prop_reg(X_test,X_train,y_train,y_test,kappa):\n",
    "    d = np.zeros((len(X_test),len(X_train)))\n",
    "    for i in range(len(X_test)):\n",
    "        for j in range(len(X_train)):\n",
    "            d[i,j] = np.linalg.norm(X_test[i]-X_train[j])\n",
    "    c=np.zeros(len(y_test))\n",
    "    for i in range(len(y_test)):\n",
    "        l=0\n",
    "        v=0\n",
    "        for j in range(len(y_train)):\n",
    "            \n",
    "            l+=y_train[j]/((1+d[i,j])**kappa)\n",
    "            v+=1/((1+d[i,j])**kappa)\n",
    "        \n",
    "        c[i]=l/v\n",
    "    return(c)"
   ]
  },
  {
   "cell_type": "code",
   "execution_count": 27,
   "metadata": {},
   "outputs": [
    {
     "name": "stdout",
     "output_type": "stream",
     "text": [
      "kappa = 4.500, avg MSE = 9.262\n",
      "kappa = 4.600, avg MSE = 9.236\n",
      "kappa = 4.700, avg MSE = 9.216\n",
      "kappa = 4.800, avg MSE = 9.200\n",
      "kappa = 4.900, avg MSE = 9.187\n",
      "kappa = 5.000, avg MSE = 9.177\n",
      "kappa = 5.100, avg MSE = 9.171\n",
      "kappa = 5.200, avg MSE = 9.167\n",
      "kappa = 5.300, avg MSE = 9.166\n",
      "kappa = 5.400, avg MSE = 9.166\n",
      "kappa = 5.500, avg MSE = 9.169\n"
     ]
    },
    {
     "data": {
      "image/png": "[encoded data removed]",
      "text/plain": [
       "<Figure size 640x480 with 1 Axes>"
      ]
     },
     "metadata": {},
     "output_type": "display_data"
    }
   ],
   "source": [
    "kf = KFold(n_splits=10)\n",
    "kappa_values = np.array([4.5,4.6,4.7,4.8,4.9,5,5.1,5.2,5.3,5.4,5.5])\n",
    "mse_values = []\n",
    "\n",
    "for kappa in kappa_values:\n",
    "    mse = 0.0\n",
    "    for train_index, test_index in kf.split(X):\n",
    "        X_train, X_test = X.values[train_index], X.values[test_index]\n",
    "        y_train, y_test = y.values[train_index], y.values[test_index]\n",
    "        y_pred = prop_reg(X_test, X_train, y_train, y_test, kappa)\n",
    "        mse += mean_squared_error(y_test, y_pred)\n",
    "    mse /= kf.get_n_splits(X)\n",
    "    mse_values.append(mse)\n",
    "    print(f\"kappa = {kappa:.3f}, avg MSE = {mse:.3f}\")\n",
    "\n",
    "# plot the MSE vs kappa curve\n",
    "plt.plot(kappa_values, mse_values, '-o')\n",
    "plt.xlabel('kappa')\n",
    "plt.ylabel('MSE')\n",
    "plt.title('MSE vs kappa')\n",
    "plt.show()"
   ]
  },
  {
   "cell_type": "code",
   "execution_count": 25,
   "metadata": {},
   "outputs": [
    {
     "name": "stdout",
     "output_type": "stream",
     "text": [
      "Minimum MSE: 9.167, Kappa value: 5.2\n"
     ]
    }
   ],
   "source": [
    "# find the index of the minimum MSE value\n",
    "min_index = np.argmin(mse_values)\n",
    "\n",
    "# print the minimum MSE value and the corresponding kappa value\n",
    "print(f\"Minimum MSE: {mse_values[min_index]:.3f}, Kappa value: {kappa_values[min_index]}\")\n"
   ]
  },
  {
   "cell_type": "code",
   "execution_count": 26,
   "metadata": {},
   "outputs": [
    {
     "data": {
      "text/plain": [
       "Text(0.5, -0.4, 'Bar Graph showing the MSE for different algorithms')"
      ]
     },
     "execution_count": 26,
     "metadata": {},
     "output_type": "execute_result"
    },
    {
     "data": {
      "image/png": "[encoded data removed]",
      "text/plain": [
       "<Figure size 640x480 with 1 Axes>"
      ]
     },
     "metadata": {},
     "output_type": "display_data"
    }
   ],
   "source": [
    "\n",
    "values = [7.56, 16.08,20.03,9.177]\n",
    "labels = ['Random Forest', 'Decision Tree', 'KNN','Proposed Algorithm']\n",
    "fig, ax = plt.subplots()\n",
    "ax.bar(labels, values, color=['green','red','blue','purple'])\n",
    "\n",
    "# add labels and title\n",
    "ax.set_xlabel('Algorithms')\n",
    "ax.set_ylabel('MSE')\n",
    "ax.set_title('Bar Graph showing the MSE for different algorithms', loc='center', y=-0.4)\n"
   ]
  },
  {
   "cell_type": "code",
   "execution_count": 28,
   "metadata": {},
   "outputs": [
    {
     "name": "stdout",
     "output_type": "stream",
     "text": [
      "-9.843486311592732\n",
      "-21.080835629974484\n"
     ]
    }
   ],
   "source": [
    "ranf = RandomForestRegressor(random_state=0)\n",
    "rf= ranf.fit(X_train,y_train)\n",
    "scores_rf= cross_val_score(rf, X_train, y_train, scoring='neg_mean_squared_error', cv=10)\n",
    "scores_rf\n",
    "print(np.mean(scores_rf))\n",
    "\n",
    "y_pred_rf = cross_val_predict(ranf, X_test,y_test)\n",
    "scores_test_rf= cross_val_score(ranf, X_test, y_test,scoring='neg_mean_squared_error',cv=10)\n",
    "print(np.mean(scores_test_rf))"
   ]
  },
  {
   "cell_type": "code",
   "execution_count": null,
   "metadata": {},
   "outputs": [],
   "source": []
  }
 ],
 "metadata": {
  "kernelspec": {
   "display_name": "Python 3 (ipykernel)",
   "language": "python",
   "name": "python3"
  },
  "language_info": {
   "codemirror_mode": {
    "name": "ipython",
    "version": 3
   },
   "file_extension": ".py",
   "mimetype": "text/x-python",
   "name": "python",
   "nbconvert_exporter": "python",
   "pygments_lexer": "ipython3",
   "version": "3.9.13"
  }
 },
 "nbformat": 4,
 "nbformat_minor": 4
}
